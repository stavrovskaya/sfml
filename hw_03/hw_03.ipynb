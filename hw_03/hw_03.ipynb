{
 "cells": [
  {
   "cell_type": "markdown",
   "metadata": {},
   "source": [
    "# Нужно решить задачу с помощью 3х методов:\n",
    "**кнн**\n",
    "\n",
    "**дерева принятия решения**\n",
    "\n",
    "**логистической регрессии**\n",
    "\n",
    "и залить, на ваш взгляд, лучшее решение.\n",
    "\n",
    "Это командное ДЗ, его нужно выполнить совместно с вашими коллегами. Коммит делается от одного выбранного участника. Для зачета нужно:\n",
    "\n",
    "предоставить ноутбук с кодом, где вы попробовали все 3 метода\n",
    "\n",
    "залить предсказания для теста и найти себя в лидерборде (скоро там появится бейзлайн - минимальное решение, которое нужно побить по качеству, чтобы получить зачет)"
   ]
  },
  {
   "cell_type": "markdown",
   "metadata": {},
   "source": [
    "# Метрика ROC-AUC\n",
    "\n",
    "_id - идентификатор человека\n",
    "\n",
    "age - возраст\n",
    "\n",
    "job - тип работы (\"admin.\",\"blue-collar\",\"entrepreneur\",\"housemaid\",\"management\",\"retired\",\"self-employed\",\"services\",\"student\",\"technician\",\"unemployed\",\"unknown\")\n",
    "\n",
    "marital - семейное положение (\"divorced\" (разведенный и овдовевший),\"married\",\"single\",\"unknown\")\n",
    "\n",
    "education - уровень образования (\"basic.4y\",\"basic.6y\",\"basic.9y\",\"high.school\",\"illiterate\",\"professional.course\",\"university.degree\",\"unknown\")\n",
    "\n",
    "default - есть ли дефолт по кредиту (\"no\",\"yes\",\"unknown\")\n",
    "\n",
    "housing - есть ли кредит на жилье (\"no\",\"yes\",\"unknown\")\n",
    "\n",
    "loan - есть ли персональный кредит (\"no\",\"yes\",\"unknown\")\n",
    "\n",
    "contact - контактный тип связи (\"cellular\",\"telephone\")\n",
    "\n",
    "month - последний контактный месяц года (\"jan\", \"feb\", \"mar\", ..., \"nov\", \"dec\")\n",
    "\n",
    "day_of_week - последний контактный день недели (\"mon\",\"tue\",\"wed\",\"thu\",\"fri\")\n",
    "\n",
    "duration - длительность последнего контакта в секундах. (Важное замечание: этот атрибут сильно влияет на таргет (например, если длительность - 0 сек., то таргет - 0). Тем не менее, продолжительность не известна до выполнения вызова.\n",
    "\n",
    "campaign - количество контактов, выполненных для этого клиента в рамках текущей маркетинговой кампании (включая последний контакт)\n",
    "\n",
    "pdays - количество дней прошедших последнего контакта с клиентом с предыдущей маркетинговой кампании (999 означает, что ранее с клиентом не контактировали)\n",
    "\n",
    "previous - количество контактов, выполненных до текущей маркетинговой кампании для этого клиента\n",
    "\n",
    "poutcome - результат предыдущей маркетинговой кампании (\"failure\",\"nonexistent\",\"success\")\n",
    "\n",
    "## ниже приведены показатели окружающей среды и банка\n",
    "\n",
    "emp.var.rate - изменение уровня занятости (квартальный показатель)\n",
    "\n",
    "cons.price.idx - индекс потребительских цен (ежемесячный показатель)\n",
    "\n",
    "cons.conf.idx - индекс доверия потребителя (ежемесячный показатель)\n",
    "\n",
    "euribor3m - курс Euribor (ежедневный показатель)\n",
    "\n",
    "nr.employed - количество сотрудников (квартальный показатель)\n",
    "\n",
    "target - целевая переменная (таргет) - согласился ли клиент на вклад (депозит)"
   ]
  },
  {
   "cell_type": "markdown",
   "metadata": {},
   "source": [
    "# Читаем данные:"
   ]
  },
  {
   "cell_type": "code",
   "execution_count": 1,
   "metadata": {},
   "outputs": [],
   "source": [
    "import pandas as pd\n",
    "\n",
    "df_test = pd.read_csv(\"data/test.csv\")\n",
    "\n",
    "df_train = pd.read_csv(\"data/train.csv\")\n",
    "\n",
    "df_submit = pd.read_csv(\"data/sample_submission.csv\")\n"
   ]
  },
  {
   "cell_type": "code",
   "execution_count": 2,
   "metadata": {},
   "outputs": [
    {
     "name": "stdout",
     "output_type": "stream",
     "text": [
      "<class 'pandas.core.frame.DataFrame'>\n",
      "RangeIndex: 24712 entries, 0 to 24711\n",
      "Data columns (total 22 columns):\n",
      "_id               24712 non-null object\n",
      "age               24712 non-null int64\n",
      "job               24712 non-null object\n",
      "marital           24712 non-null object\n",
      "education         24712 non-null object\n",
      "default           24712 non-null object\n",
      "housing           24712 non-null object\n",
      "loan              24712 non-null object\n",
      "contact           24712 non-null object\n",
      "month             24712 non-null object\n",
      "day_of_week       24712 non-null object\n",
      "duration          24712 non-null int64\n",
      "campaign          24712 non-null int64\n",
      "pdays             24712 non-null int64\n",
      "previous          24712 non-null int64\n",
      "poutcome          24712 non-null object\n",
      "emp.var.rate      24712 non-null float64\n",
      "cons.price.idx    24712 non-null float64\n",
      "cons.conf.idx     24712 non-null float64\n",
      "euribor3m         24712 non-null float64\n",
      "nr.employed       24712 non-null float64\n",
      "target            24712 non-null int64\n",
      "dtypes: float64(5), int64(6), object(11)\n",
      "memory usage: 3.1+ MB\n"
     ]
    }
   ],
   "source": [
    "df_train.info()"
   ]
  },
  {
   "cell_type": "code",
   "execution_count": 3,
   "metadata": {},
   "outputs": [
    {
     "name": "stdout",
     "output_type": "stream",
     "text": [
      "<class 'pandas.core.frame.DataFrame'>\n",
      "RangeIndex: 16476 entries, 0 to 16475\n",
      "Data columns (total 21 columns):\n",
      "_id               16476 non-null object\n",
      "age               16476 non-null int64\n",
      "job               16476 non-null object\n",
      "marital           16476 non-null object\n",
      "education         16476 non-null object\n",
      "default           16476 non-null object\n",
      "housing           16476 non-null object\n",
      "loan              16476 non-null object\n",
      "contact           16476 non-null object\n",
      "month             16476 non-null object\n",
      "day_of_week       16476 non-null object\n",
      "duration          16476 non-null int64\n",
      "campaign          16476 non-null int64\n",
      "pdays             16476 non-null int64\n",
      "previous          16476 non-null int64\n",
      "poutcome          16476 non-null object\n",
      "emp.var.rate      16476 non-null float64\n",
      "cons.price.idx    16476 non-null float64\n",
      "cons.conf.idx     16476 non-null float64\n",
      "euribor3m         16476 non-null float64\n",
      "nr.employed       16476 non-null float64\n",
      "dtypes: float64(5), int64(5), object(11)\n",
      "memory usage: 1.9+ MB\n"
     ]
    }
   ],
   "source": [
    "df_test.info()"
   ]
  },
  {
   "cell_type": "code",
   "execution_count": 4,
   "metadata": {},
   "outputs": [
    {
     "data": {
      "text/plain": [
       "<bound method NDFrame.head of                                     _id  age            job   marital  \\\n",
       "0      df7489733b004bbe40d3d37b34f82419   54     technician   married   \n",
       "1      905a0b9a5456ee962223033473666be3   36       services    single   \n",
       "2      02d69c07ec6d68e31d641edd45ce61cd   53    blue-collar   married   \n",
       "3      e492fbe0cccaf67cdb5c0944dbc8a167   34    blue-collar   married   \n",
       "4      ac2dc6f5835bdea8e71dd99b65208d07   29       services    single   \n",
       "5      3c41d96da147ab5a745938cbd85e2313   56  self-employed    single   \n",
       "6      1a87845e9d5740a2619acd478da08459   33         admin.   married   \n",
       "7      e07d393a5d9b174b39f6064823386759   36     management   married   \n",
       "8      e5a3da407a75e8475a3e1bb6a804b1c7   70        retired   married   \n",
       "9      42b112272cd4851b4d65d1ed464fbbd9   32    blue-collar   married   \n",
       "10     13d1b247882324ade5e27cb5823168ce   48         admin.   married   \n",
       "11     34f3e8404d0ff8b12d2e7be426703580   34    blue-collar   married   \n",
       "12     658f8926c5f1f915398c5a08b985718b   29       services    single   \n",
       "13     bbc46d5d98f2af40312ede115c0611d3   38     technician   married   \n",
       "14     a2a6549b622f3937c66b40f806da3f28   29   entrepreneur    single   \n",
       "15     0f0a1783841fcaee35adf3ac18bb6b6e   38     technician   married   \n",
       "16     a8498a5ced174919e9618f69d8da3514   24    blue-collar    single   \n",
       "17     bdfc0757136671abbf785346a9677eb9   34     unemployed   married   \n",
       "18     ad4ddcd54807b24f7d0e9290865583af   49       services  divorced   \n",
       "19     e9d44b24b224a789cb0a6d6be744ee02   47    blue-collar    single   \n",
       "20     9a676f614e0fdafffd885fa06da360e5   39     management   married   \n",
       "21     304d1cde1c30d22a53cbe71158cf8da8   46    blue-collar   married   \n",
       "22     5e345fdce6fb10d9162dfcb9fcab6291   47    blue-collar   married   \n",
       "23     98e5198294f54198761188f2f3026157   46         admin.  divorced   \n",
       "24     fcb39ae9118f11ed8888acf2894ff39f   46         admin.    single   \n",
       "25     5dc13e0ab97ce145dc71554f042d7f88   37         admin.  divorced   \n",
       "26     cf05b11cd85bfb0de070accda0ae02c7   50       services   married   \n",
       "27     1a2806f2831f8ed4cee0d96f7189cd6b   32         admin.    single   \n",
       "28     bcb26dd8d8629050593b2bae0406f871   40       services    single   \n",
       "29     09b2b2b497ba98b396bb03cd9656031b   36         admin.   married   \n",
       "...                                 ...  ...            ...       ...   \n",
       "24682  28b57c7cdd412e5bc7d04eccefe6c289   36         admin.  divorced   \n",
       "24683  3482906bb3aaf38125bad674436e7e3a   33         admin.   married   \n",
       "24684  8ec05f3d62caf55b8571f3902d6368cc   41         admin.    single   \n",
       "24685  abeed7a34fe08bd28fc9fe0f1b542a23   38         admin.  divorced   \n",
       "24686  28e37d39272f9d6d788d86cbf1810af5   34         admin.   married   \n",
       "24687  34145bc9401824f0af3a1f7c0cc2f6f5   42     management   married   \n",
       "24688  4324b364931a5222e9e20d6126e27143   42     technician   married   \n",
       "24689  34c87a94e726b0cb2172b9169b2cd972   35     management    single   \n",
       "24690  c07a845b30361ec28c21e2d366ee96b8   49    blue-collar   married   \n",
       "24691  2d58d21625f5a34e0919eece4348ba2f   45     technician   married   \n",
       "24692  286544c3eb2304b0c23405db4425a871   29       services  divorced   \n",
       "24693  c1c77f0d583dd6725bf9c6b00270955d   40   entrepreneur   married   \n",
       "24694  056d3806a5c04bfced4ab766c1126db7   33     technician   married   \n",
       "24695  519566f4297aa248b9495efd2ebfc5ba   42     technician  divorced   \n",
       "24696  23479e3b9b6c7deb5710b3805ce66e8f   31     technician    single   \n",
       "24697  e45e136c3dec79e4b71dedf380e16234   80        retired   married   \n",
       "24698  4938b821ccc410e7185dd641059c1c3e   31       services    single   \n",
       "24699  911b2429623176dc28854a37af4da54f   50       services   married   \n",
       "24700  28226a3bf54c2dd8cbb3e08b64ee730d   30        student    single   \n",
       "24701  ef5a718ea268f0b9627e48715c08b855   58     management   married   \n",
       "24702  5bda10424327b19dacd7ad441eb96f87   31         admin.    single   \n",
       "24703  3b645c9f6fe700760d6eb129fb39cbaa   33    blue-collar   married   \n",
       "24704  bab14c06a4521a1be42886d06a949524   43     management   married   \n",
       "24705  2cc26ab0e721e5e9c6669413f75da257   58     unemployed  divorced   \n",
       "24706  dafc873488714ecc84cb5dff649e8495   36     management   married   \n",
       "24707  4161f19fed82fd2c937291775bfa7891   58        retired   married   \n",
       "24708  96e1c42e88b9e93256e1538b2001b98f   37     management   married   \n",
       "24709  55f91ed39163c14985c2a8ad85b80635   35         admin.   married   \n",
       "24710  01734878c05d2dded8c726a622fdba9e   40     management   married   \n",
       "24711  46d0d25dfd1def79632dd437261d0b5c   29         admin.    single   \n",
       "\n",
       "                 education  default housing loan    contact month   ...    \\\n",
       "0      professional.course  unknown      no   no   cellular   aug   ...     \n",
       "1                 basic.4y       no      no   no  telephone   may   ...     \n",
       "2                 basic.4y       no     yes   no   cellular   aug   ...     \n",
       "3                 basic.9y       no     yes  yes  telephone   may   ...     \n",
       "4        university.degree       no     yes   no  telephone   aug   ...     \n",
       "5                 basic.9y  unknown      no   no  telephone   jun   ...     \n",
       "6        university.degree       no     yes  yes   cellular   may   ...     \n",
       "7        university.degree       no     yes   no   cellular   nov   ...     \n",
       "8      professional.course       no      no   no   cellular   oct   ...     \n",
       "9      professional.course  unknown     yes   no   cellular   may   ...     \n",
       "10             high.school       no     yes  yes  telephone   may   ...     \n",
       "11     professional.course       no     yes   no  telephone   may   ...     \n",
       "12     professional.course       no     yes   no  telephone   jun   ...     \n",
       "13                basic.6y  unknown     yes  yes  telephone   may   ...     \n",
       "14       university.degree       no      no   no   cellular   apr   ...     \n",
       "15                 unknown       no     yes   no   cellular   jul   ...     \n",
       "16                basic.9y       no     yes   no   cellular   jul   ...     \n",
       "17                basic.6y  unknown      no  yes  telephone   jun   ...     \n",
       "18             high.school  unknown      no  yes  telephone   may   ...     \n",
       "19                basic.4y       no      no   no  telephone   may   ...     \n",
       "20       university.degree       no      no   no   cellular   jun   ...     \n",
       "21     professional.course       no      no   no  telephone   aug   ...     \n",
       "22                basic.6y       no     yes  yes   cellular   jul   ...     \n",
       "23             high.school       no     yes   no  telephone   oct   ...     \n",
       "24             high.school       no      no   no   cellular   aug   ...     \n",
       "25       university.degree       no      no   no  telephone   may   ...     \n",
       "26                basic.6y       no     yes   no  telephone   may   ...     \n",
       "27       university.degree       no     yes   no   cellular   jul   ...     \n",
       "28                basic.6y       no      no   no   cellular   nov   ...     \n",
       "29     professional.course       no     yes   no   cellular   nov   ...     \n",
       "...                    ...      ...     ...  ...        ...   ...   ...     \n",
       "24682    university.degree       no      no   no  telephone   may   ...     \n",
       "24683          high.school  unknown     yes   no  telephone   may   ...     \n",
       "24684          high.school       no      no  yes  telephone   may   ...     \n",
       "24685    university.degree       no     yes   no   cellular   aug   ...     \n",
       "24686    university.degree       no     yes   no  telephone   may   ...     \n",
       "24687    university.degree  unknown     yes   no  telephone   may   ...     \n",
       "24688    university.degree       no      no  yes   cellular   jul   ...     \n",
       "24689    university.degree       no     yes   no   cellular   aug   ...     \n",
       "24690             basic.9y  unknown     yes   no   cellular   nov   ...     \n",
       "24691  professional.course       no     yes  yes   cellular   nov   ...     \n",
       "24692          high.school       no     yes   no  telephone   may   ...     \n",
       "24693             basic.9y       no     yes   no   cellular   apr   ...     \n",
       "24694          high.school  unknown      no   no   cellular   aug   ...     \n",
       "24695  professional.course       no     yes  yes   cellular   jul   ...     \n",
       "24696  professional.course       no      no   no   cellular   mar   ...     \n",
       "24697             basic.4y       no     yes   no   cellular   aug   ...     \n",
       "24698  professional.course       no      no   no  telephone   may   ...     \n",
       "24699              unknown  unknown      no   no  telephone   may   ...     \n",
       "24700          high.school  unknown      no   no  telephone   may   ...     \n",
       "24701              unknown  unknown     yes   no  telephone   may   ...     \n",
       "24702    university.degree       no      no  yes   cellular   nov   ...     \n",
       "24703             basic.6y       no     yes   no   cellular   jul   ...     \n",
       "24704    university.degree       no      no   no   cellular   aug   ...     \n",
       "24705  professional.course       no      no  yes   cellular   aug   ...     \n",
       "24706              unknown  unknown     yes   no   cellular   jul   ...     \n",
       "24707  professional.course  unknown      no   no  telephone   may   ...     \n",
       "24708    university.degree       no      no   no  telephone   jun   ...     \n",
       "24709          high.school       no     yes   no   cellular   oct   ...     \n",
       "24710    university.degree       no     yes   no  telephone   may   ...     \n",
       "24711    university.degree       no     yes   no   cellular   jul   ...     \n",
       "\n",
       "      campaign  pdays  previous     poutcome  emp.var.rate cons.price.idx  \\\n",
       "0            1    999         0  nonexistent           1.4         93.444   \n",
       "1            1    999         0  nonexistent           1.1         93.994   \n",
       "2            1    999         0  nonexistent           1.4         93.444   \n",
       "3            2    999         0  nonexistent           1.1         93.994   \n",
       "4            1    999         0  nonexistent          -1.7         94.027   \n",
       "5            2    999         0  nonexistent           1.4         94.465   \n",
       "6            2    999         0  nonexistent          -1.8         93.876   \n",
       "7            1    999         1      failure          -0.1         93.200   \n",
       "8            1      6         3      success          -1.1         94.601   \n",
       "9            2    999         1      failure          -1.8         92.893   \n",
       "10           2    999         0  nonexistent           1.1         93.994   \n",
       "11           2    999         0  nonexistent           1.1         93.994   \n",
       "12           2    999         0  nonexistent          -2.9         92.963   \n",
       "13           3    999         0  nonexistent           1.1         93.994   \n",
       "14           2    999         0  nonexistent          -1.8         93.075   \n",
       "15           1    999         0  nonexistent           1.4         93.918   \n",
       "16           3    999         0  nonexistent           1.4         93.918   \n",
       "17           1    999         0  nonexistent           1.4         94.465   \n",
       "18           2    999         0  nonexistent           1.1         93.994   \n",
       "19           1    999         0  nonexistent           1.1         93.994   \n",
       "20           1    999         1      failure          -1.7         94.055   \n",
       "21           3    999         0  nonexistent          -2.9         92.201   \n",
       "22           3    999         0  nonexistent           1.4         93.918   \n",
       "23           1    999         0  nonexistent          -0.1         93.798   \n",
       "24           2     17         1      success          -1.7         94.027   \n",
       "25           1    999         0  nonexistent           1.1         93.994   \n",
       "26           4    999         0  nonexistent           1.1         93.994   \n",
       "27           1    999         0  nonexistent           1.4         93.918   \n",
       "28           1    999         0  nonexistent          -0.1         93.200   \n",
       "29           2    999         0  nonexistent          -0.1         93.200   \n",
       "...        ...    ...       ...          ...           ...            ...   \n",
       "24682        4    999         0  nonexistent           1.1         93.994   \n",
       "24683        2    999         0  nonexistent           1.1         93.994   \n",
       "24684        6    999         0  nonexistent          -1.8         92.893   \n",
       "24685        2    999         0  nonexistent           1.4         93.444   \n",
       "24686        1    999         0  nonexistent           1.1         93.994   \n",
       "24687        1    999         0  nonexistent           1.1         93.994   \n",
       "24688        2    999         0  nonexistent           1.4         93.918   \n",
       "24689        2    999         0  nonexistent           1.4         93.444   \n",
       "24690        1    999         1      failure          -0.1         93.200   \n",
       "24691        2    999         0  nonexistent          -0.1         93.200   \n",
       "24692        3    999         0  nonexistent           1.1         93.994   \n",
       "24693        2    999         0  nonexistent          -1.8         93.075   \n",
       "24694        1    999         0  nonexistent           1.4         93.444   \n",
       "24695        5    999         0  nonexistent           1.4         93.918   \n",
       "24696        2    999         0  nonexistent          -1.8         93.369   \n",
       "24697        1      3         2      success          -2.9         92.201   \n",
       "24698        1    999         0  nonexistent           1.1         93.994   \n",
       "24699        1    999         0  nonexistent           1.1         93.994   \n",
       "24700        3    999         0  nonexistent           1.1         93.994   \n",
       "24701        1    999         0  nonexistent           1.1         93.994   \n",
       "24702        2      3         6      success          -1.1         94.767   \n",
       "24703        1    999         0  nonexistent           1.4         93.918   \n",
       "24704        2    999         0  nonexistent           1.4         93.444   \n",
       "24705        1    999         0  nonexistent          -2.9         92.201   \n",
       "24706        1    999         0  nonexistent           1.4         93.918   \n",
       "24707        2    999         0  nonexistent           1.1         93.994   \n",
       "24708        1    999         0  nonexistent           1.4         94.465   \n",
       "24709        1      4         1      success          -3.4         92.431   \n",
       "24710        2    999         0  nonexistent           1.1         93.994   \n",
       "24711        2    999         0  nonexistent           1.4         93.918   \n",
       "\n",
       "       cons.conf.idx  euribor3m  nr.employed  target  \n",
       "0              -36.1      4.963       5228.1       0  \n",
       "1              -36.4      4.857       5191.0       0  \n",
       "2              -36.1      4.965       5228.1       0  \n",
       "3              -36.4      4.857       5191.0       0  \n",
       "4              -38.3      0.890       4991.6       0  \n",
       "5              -41.8      4.961       5228.1       0  \n",
       "6              -40.0      0.685       5008.7       0  \n",
       "7              -42.0      4.120       5195.8       0  \n",
       "8              -49.5      0.987       4963.6       1  \n",
       "9              -46.2      1.327       5099.1       0  \n",
       "10             -36.4      4.855       5191.0       0  \n",
       "11             -36.4      4.858       5191.0       0  \n",
       "12             -40.8      1.252       5076.2       0  \n",
       "13             -36.4      4.859       5191.0       0  \n",
       "14             -47.1      1.405       5099.1       0  \n",
       "15             -42.7      4.963       5228.1       0  \n",
       "16             -42.7      4.963       5228.1       0  \n",
       "17             -41.8      4.967       5228.1       0  \n",
       "18             -36.4      4.857       5191.0       0  \n",
       "19             -36.4      4.857       5191.0       0  \n",
       "20             -39.8      0.720       4991.6       0  \n",
       "21             -31.4      0.884       5076.2       0  \n",
       "22             -42.7      4.962       5228.1       0  \n",
       "23             -40.4      5.045       5195.8       0  \n",
       "24             -38.3      0.904       4991.6       0  \n",
       "25             -36.4      4.855       5191.0       0  \n",
       "26             -36.4      4.858       5191.0       0  \n",
       "27             -42.7      4.962       5228.1       0  \n",
       "28             -42.0      4.076       5195.8       0  \n",
       "29             -42.0      4.153       5195.8       0  \n",
       "...              ...        ...          ...     ...  \n",
       "24682          -36.4      4.855       5191.0       0  \n",
       "24683          -36.4      4.855       5191.0       0  \n",
       "24684          -46.2      1.244       5099.1       0  \n",
       "24685          -36.1      4.968       5228.1       0  \n",
       "24686          -36.4      4.857       5191.0       0  \n",
       "24687          -36.4      4.859       5191.0       0  \n",
       "24688          -42.7      4.968       5228.1       0  \n",
       "24689          -36.1      4.970       5228.1       0  \n",
       "24690          -42.0      4.120       5195.8       0  \n",
       "24691          -42.0      4.021       5195.8       0  \n",
       "24692          -36.4      4.857       5191.0       0  \n",
       "24693          -47.1      1.410       5099.1       0  \n",
       "24694          -36.1      4.966       5228.1       0  \n",
       "24695          -42.7      4.962       5228.1       0  \n",
       "24696          -34.8      0.653       5008.7       0  \n",
       "24697          -31.4      0.834       5076.2       0  \n",
       "24698          -36.4      4.857       5191.0       0  \n",
       "24699          -36.4      4.856       5191.0       0  \n",
       "24700          -36.4      4.856       5191.0       0  \n",
       "24701          -36.4      4.855       5191.0       0  \n",
       "24702          -50.8      1.048       4963.6       0  \n",
       "24703          -42.7      4.961       5228.1       0  \n",
       "24704          -36.1      4.964       5228.1       0  \n",
       "24705          -31.4      0.883       5076.2       0  \n",
       "24706          -42.7      4.962       5228.1       0  \n",
       "24707          -36.4      4.857       5191.0       0  \n",
       "24708          -41.8      4.961       5228.1       0  \n",
       "24709          -26.9      0.754       5017.5       1  \n",
       "24710          -36.4      4.856       5191.0       0  \n",
       "24711          -42.7      4.960       5228.1       0  \n",
       "\n",
       "[24712 rows x 22 columns]>"
      ]
     },
     "execution_count": 4,
     "metadata": {},
     "output_type": "execute_result"
    }
   ],
   "source": [
    "df_train.head"
   ]
  },
  {
   "cell_type": "code",
   "execution_count": 5,
   "metadata": {},
   "outputs": [],
   "source": [
    "df_train.loc[:, 'sample'] = 'train'\n",
    "df_test.loc[:, 'sample'] = 'test'\n",
    "df = df_test.append(df_train).reset_index(drop=True)\n",
    "df.index = df._id\n",
    "df = df.drop(columns=[\"_id\"])"
   ]
  },
  {
   "cell_type": "code",
   "execution_count": 6,
   "metadata": {},
   "outputs": [],
   "source": [
    "new_names = []\n",
    "\n",
    "for column in df.columns:\n",
    "    new_name = column.replace('.', '_')\n",
    "    new_name = new_name.replace('-', '_')\n",
    "    new_names.append(new_name)\n",
    "\n",
    "df.columns = new_names"
   ]
  },
  {
   "cell_type": "code",
   "execution_count": 7,
   "metadata": {},
   "outputs": [
    {
     "data": {
      "text/plain": [
       "university.degree      12168\n",
       "high.school             9515\n",
       "basic.9y                6045\n",
       "professional.course     5243\n",
       "basic.4y                4176\n",
       "basic.6y                2292\n",
       "unknown                 1731\n",
       "illiterate                18\n",
       "Name: education, dtype: int64"
      ]
     },
     "execution_count": 7,
     "metadata": {},
     "output_type": "execute_result"
    }
   ],
   "source": [
    "df.education.value_counts()"
   ]
  },
  {
   "cell_type": "code",
   "execution_count": 8,
   "metadata": {},
   "outputs": [],
   "source": [
    "df.contact = df.contact.map(lambda x: 0 if x == 'cellular' else 1)\n",
    "cat_columns = []\n",
    "not_cat_columns = []\n",
    "\n",
    "for i in df.columns:\n",
    "    if str(df[i].dtype) == 'object' and i != 'sample':\n",
    "            cat_columns.append(i)\n",
    "    else:\n",
    "            not_cat_columns.append(i)\n",
    "df_dummy = pd.get_dummies(df[cat_columns])\n",
    "\n",
    "df = pd.concat([df[not_cat_columns], df_dummy], axis = 1, join='inner')\n"
   ]
  },
  {
   "cell_type": "code",
   "execution_count": 9,
   "metadata": {},
   "outputs": [
    {
     "data": {
      "text/html": [
       "<div>\n",
       "<style scoped>\n",
       "    .dataframe tbody tr th:only-of-type {\n",
       "        vertical-align: middle;\n",
       "    }\n",
       "\n",
       "    .dataframe tbody tr th {\n",
       "        vertical-align: top;\n",
       "    }\n",
       "\n",
       "    .dataframe thead th {\n",
       "        text-align: right;\n",
       "    }\n",
       "</style>\n",
       "<table border=\"1\" class=\"dataframe\">\n",
       "  <thead>\n",
       "    <tr style=\"text-align: right;\">\n",
       "      <th></th>\n",
       "      <th>age</th>\n",
       "      <th>campaign</th>\n",
       "      <th>cons_conf_idx</th>\n",
       "      <th>cons_price_idx</th>\n",
       "      <th>contact</th>\n",
       "      <th>duration</th>\n",
       "      <th>emp_var_rate</th>\n",
       "      <th>euribor3m</th>\n",
       "      <th>nr_employed</th>\n",
       "      <th>pdays</th>\n",
       "      <th>...</th>\n",
       "      <th>month_jul</th>\n",
       "      <th>month_jun</th>\n",
       "      <th>month_mar</th>\n",
       "      <th>month_may</th>\n",
       "      <th>month_nov</th>\n",
       "      <th>month_oct</th>\n",
       "      <th>month_sep</th>\n",
       "      <th>poutcome_failure</th>\n",
       "      <th>poutcome_nonexistent</th>\n",
       "      <th>poutcome_success</th>\n",
       "    </tr>\n",
       "    <tr>\n",
       "      <th>_id</th>\n",
       "      <th></th>\n",
       "      <th></th>\n",
       "      <th></th>\n",
       "      <th></th>\n",
       "      <th></th>\n",
       "      <th></th>\n",
       "      <th></th>\n",
       "      <th></th>\n",
       "      <th></th>\n",
       "      <th></th>\n",
       "      <th></th>\n",
       "      <th></th>\n",
       "      <th></th>\n",
       "      <th></th>\n",
       "      <th></th>\n",
       "      <th></th>\n",
       "      <th></th>\n",
       "      <th></th>\n",
       "      <th></th>\n",
       "      <th></th>\n",
       "      <th></th>\n",
       "    </tr>\n",
       "  </thead>\n",
       "  <tbody>\n",
       "    <tr>\n",
       "      <th>66810d8e6bf2b41c880a7bc6c8a1e295</th>\n",
       "      <td>57</td>\n",
       "      <td>1</td>\n",
       "      <td>-46.2</td>\n",
       "      <td>92.893</td>\n",
       "      <td>0</td>\n",
       "      <td>371</td>\n",
       "      <td>-1.8</td>\n",
       "      <td>1.299</td>\n",
       "      <td>5099.1</td>\n",
       "      <td>999</td>\n",
       "      <td>...</td>\n",
       "      <td>0</td>\n",
       "      <td>0</td>\n",
       "      <td>0</td>\n",
       "      <td>1</td>\n",
       "      <td>0</td>\n",
       "      <td>0</td>\n",
       "      <td>0</td>\n",
       "      <td>1</td>\n",
       "      <td>0</td>\n",
       "      <td>0</td>\n",
       "    </tr>\n",
       "    <tr>\n",
       "      <th>ccac3879652b08cb8b44c1920fd93afa</th>\n",
       "      <td>55</td>\n",
       "      <td>2</td>\n",
       "      <td>-36.4</td>\n",
       "      <td>93.994</td>\n",
       "      <td>1</td>\n",
       "      <td>285</td>\n",
       "      <td>1.1</td>\n",
       "      <td>4.860</td>\n",
       "      <td>5191.0</td>\n",
       "      <td>999</td>\n",
       "      <td>...</td>\n",
       "      <td>0</td>\n",
       "      <td>0</td>\n",
       "      <td>0</td>\n",
       "      <td>1</td>\n",
       "      <td>0</td>\n",
       "      <td>0</td>\n",
       "      <td>0</td>\n",
       "      <td>0</td>\n",
       "      <td>1</td>\n",
       "      <td>0</td>\n",
       "    </tr>\n",
       "    <tr>\n",
       "      <th>fcccab4d7a76f70647f015f2c84c2af8</th>\n",
       "      <td>33</td>\n",
       "      <td>1</td>\n",
       "      <td>-46.2</td>\n",
       "      <td>92.893</td>\n",
       "      <td>0</td>\n",
       "      <td>52</td>\n",
       "      <td>-1.8</td>\n",
       "      <td>1.313</td>\n",
       "      <td>5099.1</td>\n",
       "      <td>999</td>\n",
       "      <td>...</td>\n",
       "      <td>0</td>\n",
       "      <td>0</td>\n",
       "      <td>0</td>\n",
       "      <td>1</td>\n",
       "      <td>0</td>\n",
       "      <td>0</td>\n",
       "      <td>0</td>\n",
       "      <td>1</td>\n",
       "      <td>0</td>\n",
       "      <td>0</td>\n",
       "    </tr>\n",
       "    <tr>\n",
       "      <th>ed8399278c30678dab739045fa12b440</th>\n",
       "      <td>36</td>\n",
       "      <td>4</td>\n",
       "      <td>-41.8</td>\n",
       "      <td>94.465</td>\n",
       "      <td>1</td>\n",
       "      <td>355</td>\n",
       "      <td>1.4</td>\n",
       "      <td>4.967</td>\n",
       "      <td>5228.1</td>\n",
       "      <td>999</td>\n",
       "      <td>...</td>\n",
       "      <td>0</td>\n",
       "      <td>1</td>\n",
       "      <td>0</td>\n",
       "      <td>0</td>\n",
       "      <td>0</td>\n",
       "      <td>0</td>\n",
       "      <td>0</td>\n",
       "      <td>0</td>\n",
       "      <td>1</td>\n",
       "      <td>0</td>\n",
       "    </tr>\n",
       "    <tr>\n",
       "      <th>1d4d62ac5cabcb48bac7112813f290cb</th>\n",
       "      <td>27</td>\n",
       "      <td>2</td>\n",
       "      <td>-42.7</td>\n",
       "      <td>93.918</td>\n",
       "      <td>0</td>\n",
       "      <td>189</td>\n",
       "      <td>1.4</td>\n",
       "      <td>4.963</td>\n",
       "      <td>5228.1</td>\n",
       "      <td>999</td>\n",
       "      <td>...</td>\n",
       "      <td>1</td>\n",
       "      <td>0</td>\n",
       "      <td>0</td>\n",
       "      <td>0</td>\n",
       "      <td>0</td>\n",
       "      <td>0</td>\n",
       "      <td>0</td>\n",
       "      <td>0</td>\n",
       "      <td>1</td>\n",
       "      <td>0</td>\n",
       "    </tr>\n",
       "  </tbody>\n",
       "</table>\n",
       "<p>5 rows × 64 columns</p>\n",
       "</div>"
      ],
      "text/plain": [
       "                                  age  campaign  cons_conf_idx  \\\n",
       "_id                                                              \n",
       "66810d8e6bf2b41c880a7bc6c8a1e295   57         1          -46.2   \n",
       "ccac3879652b08cb8b44c1920fd93afa   55         2          -36.4   \n",
       "fcccab4d7a76f70647f015f2c84c2af8   33         1          -46.2   \n",
       "ed8399278c30678dab739045fa12b440   36         4          -41.8   \n",
       "1d4d62ac5cabcb48bac7112813f290cb   27         2          -42.7   \n",
       "\n",
       "                                  cons_price_idx  contact  duration  \\\n",
       "_id                                                                   \n",
       "66810d8e6bf2b41c880a7bc6c8a1e295          92.893        0       371   \n",
       "ccac3879652b08cb8b44c1920fd93afa          93.994        1       285   \n",
       "fcccab4d7a76f70647f015f2c84c2af8          92.893        0        52   \n",
       "ed8399278c30678dab739045fa12b440          94.465        1       355   \n",
       "1d4d62ac5cabcb48bac7112813f290cb          93.918        0       189   \n",
       "\n",
       "                                  emp_var_rate  euribor3m  nr_employed  pdays  \\\n",
       "_id                                                                             \n",
       "66810d8e6bf2b41c880a7bc6c8a1e295          -1.8      1.299       5099.1    999   \n",
       "ccac3879652b08cb8b44c1920fd93afa           1.1      4.860       5191.0    999   \n",
       "fcccab4d7a76f70647f015f2c84c2af8          -1.8      1.313       5099.1    999   \n",
       "ed8399278c30678dab739045fa12b440           1.4      4.967       5228.1    999   \n",
       "1d4d62ac5cabcb48bac7112813f290cb           1.4      4.963       5228.1    999   \n",
       "\n",
       "                                        ...         month_jul month_jun  \\\n",
       "_id                                     ...                               \n",
       "66810d8e6bf2b41c880a7bc6c8a1e295        ...                 0         0   \n",
       "ccac3879652b08cb8b44c1920fd93afa        ...                 0         0   \n",
       "fcccab4d7a76f70647f015f2c84c2af8        ...                 0         0   \n",
       "ed8399278c30678dab739045fa12b440        ...                 0         1   \n",
       "1d4d62ac5cabcb48bac7112813f290cb        ...                 1         0   \n",
       "\n",
       "                                  month_mar  month_may  month_nov  month_oct  \\\n",
       "_id                                                                            \n",
       "66810d8e6bf2b41c880a7bc6c8a1e295          0          1          0          0   \n",
       "ccac3879652b08cb8b44c1920fd93afa          0          1          0          0   \n",
       "fcccab4d7a76f70647f015f2c84c2af8          0          1          0          0   \n",
       "ed8399278c30678dab739045fa12b440          0          0          0          0   \n",
       "1d4d62ac5cabcb48bac7112813f290cb          0          0          0          0   \n",
       "\n",
       "                                  month_sep  poutcome_failure  \\\n",
       "_id                                                             \n",
       "66810d8e6bf2b41c880a7bc6c8a1e295          0                 1   \n",
       "ccac3879652b08cb8b44c1920fd93afa          0                 0   \n",
       "fcccab4d7a76f70647f015f2c84c2af8          0                 1   \n",
       "ed8399278c30678dab739045fa12b440          0                 0   \n",
       "1d4d62ac5cabcb48bac7112813f290cb          0                 0   \n",
       "\n",
       "                                  poutcome_nonexistent  poutcome_success  \n",
       "_id                                                                       \n",
       "66810d8e6bf2b41c880a7bc6c8a1e295                     0                 0  \n",
       "ccac3879652b08cb8b44c1920fd93afa                     1                 0  \n",
       "fcccab4d7a76f70647f015f2c84c2af8                     0                 0  \n",
       "ed8399278c30678dab739045fa12b440                     1                 0  \n",
       "1d4d62ac5cabcb48bac7112813f290cb                     1                 0  \n",
       "\n",
       "[5 rows x 64 columns]"
      ]
     },
     "execution_count": 9,
     "metadata": {},
     "output_type": "execute_result"
    }
   ],
   "source": [
    "df.head()"
   ]
  },
  {
   "cell_type": "code",
   "execution_count": 35,
   "metadata": {},
   "outputs": [
    {
     "data": {
      "text/html": [
       "<div>\n",
       "<style scoped>\n",
       "    .dataframe tbody tr th:only-of-type {\n",
       "        vertical-align: middle;\n",
       "    }\n",
       "\n",
       "    .dataframe tbody tr th {\n",
       "        vertical-align: top;\n",
       "    }\n",
       "\n",
       "    .dataframe thead th {\n",
       "        text-align: right;\n",
       "    }\n",
       "</style>\n",
       "<table border=\"1\" class=\"dataframe\">\n",
       "  <thead>\n",
       "    <tr style=\"text-align: right;\">\n",
       "      <th></th>\n",
       "      <th>target</th>\n",
       "    </tr>\n",
       "    <tr>\n",
       "      <th>_id</th>\n",
       "      <th></th>\n",
       "    </tr>\n",
       "  </thead>\n",
       "  <tbody>\n",
       "    <tr>\n",
       "      <th>66810d8e6bf2b41c880a7bc6c8a1e295</th>\n",
       "      <td>0</td>\n",
       "    </tr>\n",
       "    <tr>\n",
       "      <th>ccac3879652b08cb8b44c1920fd93afa</th>\n",
       "      <td>0</td>\n",
       "    </tr>\n",
       "    <tr>\n",
       "      <th>fcccab4d7a76f70647f015f2c84c2af8</th>\n",
       "      <td>0</td>\n",
       "    </tr>\n",
       "    <tr>\n",
       "      <th>ed8399278c30678dab739045fa12b440</th>\n",
       "      <td>0</td>\n",
       "    </tr>\n",
       "    <tr>\n",
       "      <th>1d4d62ac5cabcb48bac7112813f290cb</th>\n",
       "      <td>0</td>\n",
       "    </tr>\n",
       "    <tr>\n",
       "      <th>aba2dec4c5cab88824f36babd24b986f</th>\n",
       "      <td>0</td>\n",
       "    </tr>\n",
       "    <tr>\n",
       "      <th>06f318f1dd178e738f675bb88a5adb84</th>\n",
       "      <td>0</td>\n",
       "    </tr>\n",
       "    <tr>\n",
       "      <th>d5036f5956e42ee6207296238fc4bc1d</th>\n",
       "      <td>0</td>\n",
       "    </tr>\n",
       "    <tr>\n",
       "      <th>fe0cc8933698ad4046ff2b82f65756eb</th>\n",
       "      <td>0</td>\n",
       "    </tr>\n",
       "    <tr>\n",
       "      <th>70190122f4ebf196535e11b33eb95b81</th>\n",
       "      <td>0</td>\n",
       "    </tr>\n",
       "    <tr>\n",
       "      <th>8c2e044ac444afd4d0dea67eba0079c4</th>\n",
       "      <td>0</td>\n",
       "    </tr>\n",
       "    <tr>\n",
       "      <th>0d7db1117ed3606d7bbbb65d584b5c2f</th>\n",
       "      <td>0</td>\n",
       "    </tr>\n",
       "    <tr>\n",
       "      <th>aa3d1e4ba96323b5449a23cb54badc50</th>\n",
       "      <td>0</td>\n",
       "    </tr>\n",
       "    <tr>\n",
       "      <th>d312d9b1ffdab785a806490ca0450f7b</th>\n",
       "      <td>0</td>\n",
       "    </tr>\n",
       "    <tr>\n",
       "      <th>56da3f911d7cc5e8f47f2703b74bdc45</th>\n",
       "      <td>0</td>\n",
       "    </tr>\n",
       "    <tr>\n",
       "      <th>19afb1a10078e901994a1e1e2c058652</th>\n",
       "      <td>0</td>\n",
       "    </tr>\n",
       "    <tr>\n",
       "      <th>9ac0fc025e2f551a7d5214a606a77434</th>\n",
       "      <td>0</td>\n",
       "    </tr>\n",
       "    <tr>\n",
       "      <th>4bc819b6f4ebbedca0fe354ba5dc7ba3</th>\n",
       "      <td>0</td>\n",
       "    </tr>\n",
       "    <tr>\n",
       "      <th>1c02af75529cdaee5f8822a5251f5c63</th>\n",
       "      <td>0</td>\n",
       "    </tr>\n",
       "    <tr>\n",
       "      <th>9d0424c7a80ebde8cc8b5520721592f2</th>\n",
       "      <td>0</td>\n",
       "    </tr>\n",
       "    <tr>\n",
       "      <th>cf005d4bc86312d5f1032e08ef342e05</th>\n",
       "      <td>0</td>\n",
       "    </tr>\n",
       "    <tr>\n",
       "      <th>6abe7bc6263ac81d7f6764c6b0489703</th>\n",
       "      <td>0</td>\n",
       "    </tr>\n",
       "    <tr>\n",
       "      <th>b56ee107fc7abbabfa317f9209cbc5fd</th>\n",
       "      <td>0</td>\n",
       "    </tr>\n",
       "    <tr>\n",
       "      <th>2fd2f7790cd8d0c638d55f41b1f323a2</th>\n",
       "      <td>0</td>\n",
       "    </tr>\n",
       "    <tr>\n",
       "      <th>bd3b2a1af1abd0d48af835aa69848232</th>\n",
       "      <td>0</td>\n",
       "    </tr>\n",
       "    <tr>\n",
       "      <th>d50372645903431bd7ceb57bbf1cea06</th>\n",
       "      <td>0</td>\n",
       "    </tr>\n",
       "    <tr>\n",
       "      <th>8a11f5487e2e8a6e91d0ab1b6003b55e</th>\n",
       "      <td>0</td>\n",
       "    </tr>\n",
       "    <tr>\n",
       "      <th>ab96e787fdf0827bbebcf95b1243d041</th>\n",
       "      <td>0</td>\n",
       "    </tr>\n",
       "    <tr>\n",
       "      <th>233d244d79e364f517c846cb3ab1932a</th>\n",
       "      <td>0</td>\n",
       "    </tr>\n",
       "    <tr>\n",
       "      <th>45971d4e3a47775bb5a7260bb5ea3c36</th>\n",
       "      <td>0</td>\n",
       "    </tr>\n",
       "    <tr>\n",
       "      <th>...</th>\n",
       "      <td>...</td>\n",
       "    </tr>\n",
       "    <tr>\n",
       "      <th>2e7eb3af58c97ad5b28e4ab4066a3166</th>\n",
       "      <td>0</td>\n",
       "    </tr>\n",
       "    <tr>\n",
       "      <th>bf36dd4830374ffc70f6ee3299d64f18</th>\n",
       "      <td>0</td>\n",
       "    </tr>\n",
       "    <tr>\n",
       "      <th>6f414266555cb6936d452d7f670c1d2a</th>\n",
       "      <td>0</td>\n",
       "    </tr>\n",
       "    <tr>\n",
       "      <th>51a8cd987d9172230140ba02680c6888</th>\n",
       "      <td>0</td>\n",
       "    </tr>\n",
       "    <tr>\n",
       "      <th>f22bc2082ffda4152fc91e62d405ae33</th>\n",
       "      <td>0</td>\n",
       "    </tr>\n",
       "    <tr>\n",
       "      <th>78fce17fbfc1649f81525fbff8ce56f6</th>\n",
       "      <td>0</td>\n",
       "    </tr>\n",
       "    <tr>\n",
       "      <th>678b27ff29561345f45c22997d4163b9</th>\n",
       "      <td>0</td>\n",
       "    </tr>\n",
       "    <tr>\n",
       "      <th>6b97722a63470c0e3141afd64dedef69</th>\n",
       "      <td>0</td>\n",
       "    </tr>\n",
       "    <tr>\n",
       "      <th>4f76847f045acfba87b9b31212e5ff04</th>\n",
       "      <td>0</td>\n",
       "    </tr>\n",
       "    <tr>\n",
       "      <th>227b74315a0f38c0468d34cb32c33130</th>\n",
       "      <td>0</td>\n",
       "    </tr>\n",
       "    <tr>\n",
       "      <th>2bfba6d34acd59d1b336a902334fe580</th>\n",
       "      <td>0</td>\n",
       "    </tr>\n",
       "    <tr>\n",
       "      <th>14800414cadc5a5225cfc88a0ad0df5f</th>\n",
       "      <td>0</td>\n",
       "    </tr>\n",
       "    <tr>\n",
       "      <th>990a8c3609aa6b418e9a1d3d03e4bae2</th>\n",
       "      <td>0</td>\n",
       "    </tr>\n",
       "    <tr>\n",
       "      <th>305b62eb82268b8fbe96f40d6bbf8c0d</th>\n",
       "      <td>0</td>\n",
       "    </tr>\n",
       "    <tr>\n",
       "      <th>85192427224a3f6c41d0098da3fc8f42</th>\n",
       "      <td>0</td>\n",
       "    </tr>\n",
       "    <tr>\n",
       "      <th>1d64b28026755f338788275caa736ae5</th>\n",
       "      <td>0</td>\n",
       "    </tr>\n",
       "    <tr>\n",
       "      <th>148b22ee82a0ab3e0a0361db70fcb8f9</th>\n",
       "      <td>0</td>\n",
       "    </tr>\n",
       "    <tr>\n",
       "      <th>be5b5fbf76512e42f33920e507651637</th>\n",
       "      <td>0</td>\n",
       "    </tr>\n",
       "    <tr>\n",
       "      <th>40abfe7908c781d5501f1f659e4c4635</th>\n",
       "      <td>0</td>\n",
       "    </tr>\n",
       "    <tr>\n",
       "      <th>47db50c3c18cafca48d259b44f77459b</th>\n",
       "      <td>0</td>\n",
       "    </tr>\n",
       "    <tr>\n",
       "      <th>909fbfc6b2be0973f005059719b1a74e</th>\n",
       "      <td>0</td>\n",
       "    </tr>\n",
       "    <tr>\n",
       "      <th>2f3adcb8c4dcdd9d639fc4565a9c3d18</th>\n",
       "      <td>0</td>\n",
       "    </tr>\n",
       "    <tr>\n",
       "      <th>647c7ffbf8a9d521e35889915d4e2b5b</th>\n",
       "      <td>0</td>\n",
       "    </tr>\n",
       "    <tr>\n",
       "      <th>b2661316878841e8616c63e394753904</th>\n",
       "      <td>0</td>\n",
       "    </tr>\n",
       "    <tr>\n",
       "      <th>5d85440e397384c76a5653fab7e0e5e7</th>\n",
       "      <td>0</td>\n",
       "    </tr>\n",
       "    <tr>\n",
       "      <th>114c0574c96ac1c71d6529b863a566d8</th>\n",
       "      <td>0</td>\n",
       "    </tr>\n",
       "    <tr>\n",
       "      <th>467e0cc4856d357b4905a3a862e952b4</th>\n",
       "      <td>0</td>\n",
       "    </tr>\n",
       "    <tr>\n",
       "      <th>d1f7a1196e049d5bff3375606950c86c</th>\n",
       "      <td>0</td>\n",
       "    </tr>\n",
       "    <tr>\n",
       "      <th>3e837730540e9b0d6a980b3f6a12bb48</th>\n",
       "      <td>0</td>\n",
       "    </tr>\n",
       "    <tr>\n",
       "      <th>82db4c5dd22e8182b30917571fe77c4d</th>\n",
       "      <td>0</td>\n",
       "    </tr>\n",
       "  </tbody>\n",
       "</table>\n",
       "<p>16476 rows × 1 columns</p>\n",
       "</div>"
      ],
      "text/plain": [
       "                                  target\n",
       "_id                                     \n",
       "66810d8e6bf2b41c880a7bc6c8a1e295       0\n",
       "ccac3879652b08cb8b44c1920fd93afa       0\n",
       "fcccab4d7a76f70647f015f2c84c2af8       0\n",
       "ed8399278c30678dab739045fa12b440       0\n",
       "1d4d62ac5cabcb48bac7112813f290cb       0\n",
       "aba2dec4c5cab88824f36babd24b986f       0\n",
       "06f318f1dd178e738f675bb88a5adb84       0\n",
       "d5036f5956e42ee6207296238fc4bc1d       0\n",
       "fe0cc8933698ad4046ff2b82f65756eb       0\n",
       "70190122f4ebf196535e11b33eb95b81       0\n",
       "8c2e044ac444afd4d0dea67eba0079c4       0\n",
       "0d7db1117ed3606d7bbbb65d584b5c2f       0\n",
       "aa3d1e4ba96323b5449a23cb54badc50       0\n",
       "d312d9b1ffdab785a806490ca0450f7b       0\n",
       "56da3f911d7cc5e8f47f2703b74bdc45       0\n",
       "19afb1a10078e901994a1e1e2c058652       0\n",
       "9ac0fc025e2f551a7d5214a606a77434       0\n",
       "4bc819b6f4ebbedca0fe354ba5dc7ba3       0\n",
       "1c02af75529cdaee5f8822a5251f5c63       0\n",
       "9d0424c7a80ebde8cc8b5520721592f2       0\n",
       "cf005d4bc86312d5f1032e08ef342e05       0\n",
       "6abe7bc6263ac81d7f6764c6b0489703       0\n",
       "b56ee107fc7abbabfa317f9209cbc5fd       0\n",
       "2fd2f7790cd8d0c638d55f41b1f323a2       0\n",
       "bd3b2a1af1abd0d48af835aa69848232       0\n",
       "d50372645903431bd7ceb57bbf1cea06       0\n",
       "8a11f5487e2e8a6e91d0ab1b6003b55e       0\n",
       "ab96e787fdf0827bbebcf95b1243d041       0\n",
       "233d244d79e364f517c846cb3ab1932a       0\n",
       "45971d4e3a47775bb5a7260bb5ea3c36       0\n",
       "...                                  ...\n",
       "2e7eb3af58c97ad5b28e4ab4066a3166       0\n",
       "bf36dd4830374ffc70f6ee3299d64f18       0\n",
       "6f414266555cb6936d452d7f670c1d2a       0\n",
       "51a8cd987d9172230140ba02680c6888       0\n",
       "f22bc2082ffda4152fc91e62d405ae33       0\n",
       "78fce17fbfc1649f81525fbff8ce56f6       0\n",
       "678b27ff29561345f45c22997d4163b9       0\n",
       "6b97722a63470c0e3141afd64dedef69       0\n",
       "4f76847f045acfba87b9b31212e5ff04       0\n",
       "227b74315a0f38c0468d34cb32c33130       0\n",
       "2bfba6d34acd59d1b336a902334fe580       0\n",
       "14800414cadc5a5225cfc88a0ad0df5f       0\n",
       "990a8c3609aa6b418e9a1d3d03e4bae2       0\n",
       "305b62eb82268b8fbe96f40d6bbf8c0d       0\n",
       "85192427224a3f6c41d0098da3fc8f42       0\n",
       "1d64b28026755f338788275caa736ae5       0\n",
       "148b22ee82a0ab3e0a0361db70fcb8f9       0\n",
       "be5b5fbf76512e42f33920e507651637       0\n",
       "40abfe7908c781d5501f1f659e4c4635       0\n",
       "47db50c3c18cafca48d259b44f77459b       0\n",
       "909fbfc6b2be0973f005059719b1a74e       0\n",
       "2f3adcb8c4dcdd9d639fc4565a9c3d18       0\n",
       "647c7ffbf8a9d521e35889915d4e2b5b       0\n",
       "b2661316878841e8616c63e394753904       0\n",
       "5d85440e397384c76a5653fab7e0e5e7       0\n",
       "114c0574c96ac1c71d6529b863a566d8       0\n",
       "467e0cc4856d357b4905a3a862e952b4       0\n",
       "d1f7a1196e049d5bff3375606950c86c       0\n",
       "3e837730540e9b0d6a980b3f6a12bb48       0\n",
       "82db4c5dd22e8182b30917571fe77c4d       0\n",
       "\n",
       "[16476 rows x 1 columns]"
      ]
     },
     "execution_count": 35,
     "metadata": {},
     "output_type": "execute_result"
    }
   ],
   "source": [
    "df_submit.index = df_submit._id\n",
    "df_submit.drop(columns=[\"_id\"])"
   ]
  },
  {
   "cell_type": "code",
   "execution_count": 10,
   "metadata": {},
   "outputs": [
    {
     "data": {
      "text/plain": [
       "count    41188.00000\n",
       "mean        40.02406\n",
       "std         10.42125\n",
       "min         17.00000\n",
       "25%         32.00000\n",
       "50%         38.00000\n",
       "75%         47.00000\n",
       "max         98.00000\n",
       "Name: age, dtype: float64"
      ]
     },
     "execution_count": 10,
     "metadata": {},
     "output_type": "execute_result"
    },
    {
     "data": {
      "image/png": "[encoded data removed]",
      "text/plain": [
       "<Figure size 432x288 with 1 Axes>"
      ]
     },
     "metadata": {},
     "output_type": "display_data"
    }
   ],
   "source": [
    "%matplotlib inline\n",
    "\n",
    "df.age.hist()\n",
    "df.age.describe()"
   ]
  },
  {
   "cell_type": "code",
   "execution_count": 11,
   "metadata": {},
   "outputs": [
    {
     "data": {
      "text/plain": [
       "count    41188.000000\n",
       "mean       258.285010\n",
       "std        259.279249\n",
       "min          0.000000\n",
       "25%        102.000000\n",
       "50%        180.000000\n",
       "75%        319.000000\n",
       "max       4918.000000\n",
       "Name: duration, dtype: float64"
      ]
     },
     "execution_count": 11,
     "metadata": {},
     "output_type": "execute_result"
    },
    {
     "data": {
      "image/png": "[encoded data removed]",
      "text/plain": [
       "<matplotlib.figure.Figure at 0x870ba10>"
      ]
     },
     "metadata": {},
     "output_type": "display_data"
    }
   ],
   "source": [
    "df.duration.hist()\n",
    "df.duration.describe()"
   ]
  },
  {
   "cell_type": "code",
   "execution_count": 12,
   "metadata": {},
   "outputs": [
    {
     "data": {
      "text/plain": [
       "count    41188.000000\n",
       "mean         2.567593\n",
       "std          2.770014\n",
       "min          1.000000\n",
       "25%          1.000000\n",
       "50%          2.000000\n",
       "75%          3.000000\n",
       "max         56.000000\n",
       "Name: campaign, dtype: float64"
      ]
     },
     "execution_count": 12,
     "metadata": {},
     "output_type": "execute_result"
    },
    {
     "data": {
      "image/png": "[encoded data removed]",
      "text/plain": [
       "<matplotlib.figure.Figure at 0x875a7b0>"
      ]
     },
     "metadata": {},
     "output_type": "display_data"
    }
   ],
   "source": [
    "df.campaign.hist()\n",
    "df.campaign.describe()"
   ]
  },
  {
   "cell_type": "code",
   "execution_count": 13,
   "metadata": {},
   "outputs": [
    {
     "data": {
      "text/plain": [
       "count    41188.000000\n",
       "mean       962.475454\n",
       "std        186.910907\n",
       "min          0.000000\n",
       "25%        999.000000\n",
       "50%        999.000000\n",
       "75%        999.000000\n",
       "max        999.000000\n",
       "Name: pdays, dtype: float64"
      ]
     },
     "execution_count": 13,
     "metadata": {},
     "output_type": "execute_result"
    },
    {
     "data": {
      "image/png": "[encoded data removed]",
      "text/plain": [
       "<matplotlib.figure.Figure at 0x8ae5830>"
      ]
     },
     "metadata": {},
     "output_type": "display_data"
    }
   ],
   "source": [
    "df.pdays.hist()\n",
    "df.pdays.describe()"
   ]
  },
  {
   "cell_type": "code",
   "execution_count": 14,
   "metadata": {},
   "outputs": [
    {
     "data": {
      "text/plain": [
       "count    41188.000000\n",
       "mean         0.172963\n",
       "std          0.494901\n",
       "min          0.000000\n",
       "25%          0.000000\n",
       "50%          0.000000\n",
       "75%          0.000000\n",
       "max          7.000000\n",
       "Name: previous, dtype: float64"
      ]
     },
     "execution_count": 14,
     "metadata": {},
     "output_type": "execute_result"
    },
    {
     "data": {
      "image/png": "[encoded data removed]",
      "text/plain": [
       "<matplotlib.figure.Figure at 0x8b26a10>"
      ]
     },
     "metadata": {},
     "output_type": "display_data"
    }
   ],
   "source": [
    "df.previous.hist()\n",
    "df.previous.describe()"
   ]
  },
  {
   "cell_type": "code",
   "execution_count": 15,
   "metadata": {},
   "outputs": [
    {
     "data": {
      "text/plain": [
       "count    41188.000000\n",
       "mean         0.081886\n",
       "std          1.570960\n",
       "min         -3.400000\n",
       "25%         -1.800000\n",
       "50%          1.100000\n",
       "75%          1.400000\n",
       "max          1.400000\n",
       "Name: emp_var_rate, dtype: float64"
      ]
     },
     "execution_count": 15,
     "metadata": {},
     "output_type": "execute_result"
    },
    {
     "data": {
      "image/png": "[encoded data removed]",
      "text/plain": [
       "<matplotlib.figure.Figure at 0x8b81430>"
      ]
     },
     "metadata": {},
     "output_type": "display_data"
    }
   ],
   "source": [
    "df.emp_var_rate.hist()\n",
    "df.emp_var_rate.describe()"
   ]
  },
  {
   "cell_type": "code",
   "execution_count": 16,
   "metadata": {},
   "outputs": [
    {
     "data": {
      "text/plain": [
       "count    41188.000000\n",
       "mean        93.575664\n",
       "std          0.578840\n",
       "min         92.201000\n",
       "25%         93.075000\n",
       "50%         93.749000\n",
       "75%         93.994000\n",
       "max         94.767000\n",
       "Name: cons_price_idx, dtype: float64"
      ]
     },
     "execution_count": 16,
     "metadata": {},
     "output_type": "execute_result"
    },
    {
     "data": {
      "image/png": "[encoded data removed]",
      "text/plain": [
       "<matplotlib.figure.Figure at 0x8d819d0>"
      ]
     },
     "metadata": {},
     "output_type": "display_data"
    }
   ],
   "source": [
    "\n",
    "df.cons_price_idx.hist()\n",
    "df.cons_price_idx.describe()"
   ]
  },
  {
   "cell_type": "code",
   "execution_count": 17,
   "metadata": {},
   "outputs": [
    {
     "data": {
      "text/plain": [
       "count    41188.000000\n",
       "mean       -40.502600\n",
       "std          4.628198\n",
       "min        -50.800000\n",
       "25%        -42.700000\n",
       "50%        -41.800000\n",
       "75%        -36.400000\n",
       "max        -26.900000\n",
       "Name: cons_conf_idx, dtype: float64"
      ]
     },
     "execution_count": 17,
     "metadata": {},
     "output_type": "execute_result"
    },
    {
     "data": {
      "image/png": "[encoded data removed]",
      "text/plain": [
       "<matplotlib.figure.Figure at 0x8dd2af0>"
      ]
     },
     "metadata": {},
     "output_type": "display_data"
    }
   ],
   "source": [
    "\n",
    "df.cons_conf_idx.hist()\n",
    "df.cons_conf_idx.describe()\n"
   ]
  },
  {
   "cell_type": "code",
   "execution_count": 18,
   "metadata": {},
   "outputs": [
    {
     "data": {
      "text/plain": [
       "count    41188.000000\n",
       "mean         3.621291\n",
       "std          1.734447\n",
       "min          0.634000\n",
       "25%          1.344000\n",
       "50%          4.857000\n",
       "75%          4.961000\n",
       "max          5.045000\n",
       "Name: euribor3m, dtype: float64"
      ]
     },
     "execution_count": 18,
     "metadata": {},
     "output_type": "execute_result"
    },
    {
     "data": {
      "image/png": "[encoded data removed]",
      "text/plain": [
       "<matplotlib.figure.Figure at 0xc082ff0>"
      ]
     },
     "metadata": {},
     "output_type": "display_data"
    }
   ],
   "source": [
    "df.euribor3m.hist()\n",
    "df.euribor3m.describe()\n",
    "#euribor3m         24712 non-null float64\n"
   ]
  },
  {
   "cell_type": "code",
   "execution_count": 19,
   "metadata": {},
   "outputs": [
    {
     "data": {
      "text/plain": [
       "count    41188.000000\n",
       "mean      5167.035911\n",
       "std         72.251528\n",
       "min       4963.600000\n",
       "25%       5099.100000\n",
       "50%       5191.000000\n",
       "75%       5228.100000\n",
       "max       5228.100000\n",
       "Name: nr_employed, dtype: float64"
      ]
     },
     "execution_count": 19,
     "metadata": {},
     "output_type": "execute_result"
    },
    {
     "data": {
      "image/png": "[encoded data removed]",
      "text/plain": [
       "<matplotlib.figure.Figure at 0xc0d06f0>"
      ]
     },
     "metadata": {},
     "output_type": "display_data"
    }
   ],
   "source": [
    "df.nr_employed.hist()\n",
    "df.nr_employed.describe()\n"
   ]
  },
  {
   "cell_type": "code",
   "execution_count": 10,
   "metadata": {},
   "outputs": [],
   "source": [
    "df_train_preproc = df.query('sample == \"train\"').drop(['sample'], axis=1)\n",
    "df_test_preproc = df.query('sample == \"test\"').drop(['sample'], axis=1)\n"
   ]
  },
  {
   "cell_type": "code",
   "execution_count": 11,
   "metadata": {},
   "outputs": [
    {
     "name": "stderr",
     "output_type": "stream",
     "text": [
      "C:\\Users\\Elena\\Anaconda3\\lib\\site-packages\\sklearn\\cross_validation.py:41: DeprecationWarning: This module was deprecated in version 0.18 in favor of the model_selection module into which all the refactored classes and functions are moved. Also note that the interface of the new CV iterators are different from that of this module. This module will be removed in 0.20.\n",
      "  \"This module will be removed in 0.20.\", DeprecationWarning)\n"
     ]
    }
   ],
   "source": [
    "y = list(df_train_preproc['target'])\n",
    "y_validate = list(df_submit['target'])\n",
    "X = df_train_preproc.drop(['target'], axis=1)\n",
    "X_validate = df_test_preproc.drop(['target'], axis=1)\n",
    "\n",
    "from sklearn.cross_validation import train_test_split\n",
    "# test_size=0.3, random_state=42\n",
    "X_train, X_test, y_train, y_test = train_test_split(X, y, test_size=0.3, random_state=42)"
   ]
  },
  {
   "cell_type": "markdown",
   "metadata": {},
   "source": [
    "# КНН"
   ]
  },
  {
   "cell_type": "code",
   "execution_count": 12,
   "metadata": {},
   "outputs": [],
   "source": [
    "from sklearn.neighbors import KNeighborsClassifier\n",
    "import matplotlib.pyplot as plt\n",
    "\n",
    "%matplotlib inline\n",
    "\n",
    "plt.style.use('ggplot')\n",
    "#parameters\n",
    "\n"
   ]
  },
  {
   "cell_type": "code",
   "execution_count": 13,
   "metadata": {},
   "outputs": [],
   "source": [
    "from sklearn.preprocessing import StandardScaler\n",
    "from sklearn.pipeline import Pipeline\n",
    "\n",
    "def knnClassifier(n_neighbors, weights, metric):\n",
    "    model = Pipeline([\n",
    "        ('scaler', StandardScaler()),\n",
    "        ('knn', KNeighborsClassifier(n_neighbors=n_neighbors, weights=weights, metric=metric))\n",
    "    ])\n",
    "    return(model)"
   ]
  },
  {
   "cell_type": "code",
   "execution_count": 14,
   "metadata": {},
   "outputs": [],
   "source": [
    "knn = knnClassifier(n_neighbors=1, weights='uniform', metric='euclidean')\n",
    "knn.fit(X_train, y_train)\n",
    "y_hat_proba = knn.predict_proba(X_test, )"
   ]
  },
  {
   "cell_type": "code",
   "execution_count": 15,
   "metadata": {},
   "outputs": [
    {
     "data": {
      "text/plain": [
       "0.6612326385409992"
      ]
     },
     "execution_count": 15,
     "metadata": {},
     "output_type": "execute_result"
    }
   ],
   "source": [
    "from sklearn.metrics import roc_auc_score\n",
    "roc_auc_score(y_test, y_hat_proba[:, 1])"
   ]
  },
  {
   "cell_type": "markdown",
   "metadata": {},
   "source": [
    "## Фитим k"
   ]
  },
  {
   "cell_type": "code",
   "execution_count": 52,
   "metadata": {},
   "outputs": [
    {
     "name": "stdout",
     "output_type": "stream",
     "text": [
      "1\n",
      "6\n",
      "11\n",
      "16\n",
      "21\n",
      "26\n",
      "31\n",
      "36\n",
      "41\n",
      "46\n"
     ]
    },
    {
     "data": {
      "text/plain": [
       "<matplotlib.legend.Legend at 0x24ca5027ba8>"
      ]
     },
     "execution_count": 52,
     "metadata": {},
     "output_type": "execute_result"
    },
    {
     "data": {
      "image/png": "[encoded data removed]",
      "text/plain": [
       "<Figure size 432x288 with 1 Axes>"
      ]
     },
     "metadata": {},
     "output_type": "display_data"
    }
   ],
   "source": [
    "scores_test = []\n",
    "scores_train = []\n",
    "\n",
    "for k in range(1, 50, 5):\n",
    "    print(k)\n",
    "    knn = knnClassifier(n_neighbors=k, weights='uniform', metric='euclidean')\n",
    "    knn.fit(X_train, y_train, )\n",
    "    \n",
    "    y_hat_test = knn.predict_proba(X_test)\n",
    "    scores_test.append(roc_auc_score(y_test, y_hat_test[:, 1]))\n",
    "    \n",
    "    y_hat_train = knn.predict_proba(X_train)\n",
    "    scores_train.append(roc_auc_score(y_train, y_hat_train[:, 1]))\n",
    "    \n",
    "plt.plot(range(1, 50, 5), scores_test, label='test')\n",
    "plt.plot(range(1, 50, 5), scores_train, label='train')\n",
    "plt.legend()"
   ]
  },
  {
   "cell_type": "code",
   "execution_count": 53,
   "metadata": {},
   "outputs": [
    {
     "name": "stdout",
     "output_type": "stream",
     "text": [
      "50\n",
      "55\n",
      "60\n",
      "65\n",
      "70\n",
      "75\n",
      "80\n",
      "85\n",
      "90\n",
      "95\n"
     ]
    },
    {
     "data": {
      "text/plain": [
       "<matplotlib.legend.Legend at 0x24ca54e6fd0>"
      ]
     },
     "execution_count": 53,
     "metadata": {},
     "output_type": "execute_result"
    },
    {
     "data": {
      "image/png": "[encoded data removed]",
      "text/plain": [
       "<Figure size 432x288 with 1 Axes>"
      ]
     },
     "metadata": {},
     "output_type": "display_data"
    }
   ],
   "source": [
    "scores_test = []\n",
    "scores_train = []\n",
    "\n",
    "for k in range(50, 100, 5):\n",
    "    print(k)\n",
    "    knn = knnClassifier(n_neighbors=k, weights='uniform', metric='euclidean')\n",
    "    knn.fit(X_train, y_train, )\n",
    "    \n",
    "    y_hat_test = knn.predict_proba(X_test)\n",
    "    scores_test.append(roc_auc_score(y_test, y_hat_test[:, 1]))\n",
    "    \n",
    "    y_hat_train = knn.predict_proba(X_train)\n",
    "    scores_train.append(roc_auc_score(y_train, y_hat_train[:, 1]))\n",
    "    \n",
    "plt.plot(range(50, 100, 5), scores_test, label='test')\n",
    "plt.plot(range(50, 100, 5), scores_train, label='train')\n",
    "plt.legend()"
   ]
  },
  {
   "cell_type": "code",
   "execution_count": 54,
   "metadata": {},
   "outputs": [
    {
     "name": "stdout",
     "output_type": "stream",
     "text": [
      "100\n",
      "110\n",
      "120\n",
      "130\n",
      "140\n"
     ]
    },
    {
     "data": {
      "text/plain": [
       "<matplotlib.legend.Legend at 0x24ca6ca3898>"
      ]
     },
     "execution_count": 54,
     "metadata": {},
     "output_type": "execute_result"
    },
    {
     "data": {
      "image/png": "[encoded data removed]",
      "text/plain": [
       "<Figure size 432x288 with 1 Axes>"
      ]
     },
     "metadata": {},
     "output_type": "display_data"
    }
   ],
   "source": [
    "scores_test = []\n",
    "scores_train = []\n",
    "\n",
    "for k in range(100, 150, 10):\n",
    "    print(k)\n",
    "    knn = knnClassifier(n_neighbors=k, weights='uniform', metric='euclidean')\n",
    "    knn.fit(X_train, y_train, )\n",
    "    \n",
    "    y_hat_test = knn.predict_proba(X_test)\n",
    "    scores_test.append(roc_auc_score(y_test, y_hat_test[:, 1]))\n",
    "    \n",
    "    y_hat_train = knn.predict_proba(X_train)\n",
    "    scores_train.append(roc_auc_score(y_train, y_hat_train[:, 1]))\n",
    "    \n",
    "plt.plot(range(100, 150, 10), scores_test, label='test')\n",
    "plt.plot(range(100, 150, 10), scores_train, label='train')\n",
    "plt.legend()"
   ]
  },
  {
   "cell_type": "code",
   "execution_count": 29,
   "metadata": {},
   "outputs": [
    {
     "data": {
      "text/plain": [
       "<matplotlib.legend.Legend at 0xc2cb8b0>"
      ]
     },
     "execution_count": 29,
     "metadata": {},
     "output_type": "execute_result"
    },
    {
     "data": {
      "image/png": "[encoded data removed]",
      "text/plain": [
       "<matplotlib.figure.Figure at 0xc18f9f0>"
      ]
     },
     "metadata": {},
     "output_type": "display_data"
    }
   ],
   "source": [
    "scores_test = []\n",
    "scores_train = []\n",
    "\n",
    "for k in range(150, 250, 10):\n",
    "    knn = knnClassifier(n_neighbors=k, weights='uniform', metric='euclidean')\n",
    "    knn.fit(X_train, y_train, )\n",
    "    \n",
    "    y_hat_test = knn.predict_proba(X_test)\n",
    "    scores_test.append(roc_auc_score(y_test, y_hat_test[:, 1]))\n",
    "    \n",
    "    y_hat_train = knn.predict_proba(X_train)\n",
    "    scores_train.append(roc_auc_score(y_train, y_hat_train[:, 1]))\n",
    "plt.plot(range(150, 250, 10), scores_test, label='test')\n",
    "plt.plot(range(150, 250, 10), scores_train, label='train')\n",
    "plt.legend()"
   ]
  },
  {
   "cell_type": "code",
   "execution_count": 35,
   "metadata": {},
   "outputs": [
    {
     "name": "stdout",
     "output_type": "stream",
     "text": [
      "250\n",
      "300\n",
      "350\n",
      "400\n",
      "450\n"
     ]
    },
    {
     "data": {
      "text/plain": [
       "<matplotlib.legend.Legend at 0x12bd7a90>"
      ]
     },
     "execution_count": 35,
     "metadata": {},
     "output_type": "execute_result"
    },
    {
     "data": {
      "image/png": "[encoded data removed]",
      "text/plain": [
       "<matplotlib.figure.Figure at 0xc2d8970>"
      ]
     },
     "metadata": {},
     "output_type": "display_data"
    }
   ],
   "source": [
    "scores_test = []\n",
    "scores_train = []\n",
    "\n",
    "for k in range(250, 500, 50):\n",
    "    print(k)\n",
    "    knn = knnClassifier(n_neighbors=k, weights='uniform', metric='euclidean')\n",
    "    knn.fit(X_train, y_train, )\n",
    "    \n",
    "    y_hat_test = knn.predict_proba(X_test)\n",
    "    scores_test.append(roc_auc_score(y_test, y_hat_test[:, 1]))\n",
    "    \n",
    "    y_hat_train = knn.predict_proba(X_train)\n",
    "    scores_train.append(roc_auc_score(y_train, y_hat_train[:, 1]))\n",
    "    \n",
    "plt.plot(range(250, 500, 50), scores_test, label='test')\n",
    "plt.plot(range(250, 500, 50), scores_train, label='train')\n",
    "plt.legend()"
   ]
  },
  {
   "cell_type": "code",
   "execution_count": 18,
   "metadata": {},
   "outputs": [
    {
     "name": "stdout",
     "output_type": "stream",
     "text": [
      "500\n",
      "600\n",
      "700\n",
      "800\n",
      "900\n"
     ]
    },
    {
     "data": {
      "text/plain": [
       "<matplotlib.legend.Legend at 0x1f585d1f358>"
      ]
     },
     "execution_count": 18,
     "metadata": {},
     "output_type": "execute_result"
    },
    {
     "data": {
      "image/png": "[encoded data removed]",
      "text/plain": [
       "<Figure size 432x288 with 1 Axes>"
      ]
     },
     "metadata": {},
     "output_type": "display_data"
    }
   ],
   "source": [
    "scores_test = []\n",
    "scores_train = []\n",
    "\n",
    "for k in range(500, 1000, 100):\n",
    "    print(k)\n",
    "    knn = knnClassifier(n_neighbors=k, weights='uniform', metric='euclidean')\n",
    "    knn.fit(X_train, y_train, )\n",
    "    \n",
    "    y_hat_test = knn.predict_proba(X_test)\n",
    "    scores_test.append(roc_auc_score(y_test, y_hat_test[:, 1]))\n",
    "    \n",
    "    y_hat_train = knn.predict_proba(X_train)\n",
    "    scores_train.append(roc_auc_score(y_train, y_hat_train[:, 1]))\n",
    "    \n",
    "plt.plot(range(500, 1000, 100), scores_test, label='test')\n",
    "plt.plot(range(500, 1000, 100), scores_train, label='train')\n",
    "plt.legend()"
   ]
  },
  {
   "cell_type": "markdown",
   "metadata": {},
   "source": [
    "## Фитим расстояние"
   ]
  },
  {
   "cell_type": "code",
   "execution_count": 19,
   "metadata": {},
   "outputs": [
    {
     "data": {
      "text/plain": [
       "0.8989708725910769"
      ]
     },
     "execution_count": 19,
     "metadata": {},
     "output_type": "execute_result"
    }
   ],
   "source": [
    "k=700\n",
    "knn = knnClassifier(n_neighbors=k, weights='uniform', metric='euclidean')\n",
    "knn.fit(X_train, y_train, )\n",
    "y_hat_test = knn.predict_proba(X_test)\n",
    "roc_auc_score(y_test, y_hat_test[:, 1])"
   ]
  },
  {
   "cell_type": "code",
   "execution_count": 20,
   "metadata": {},
   "outputs": [
    {
     "data": {
      "text/plain": [
       "0.8844496821199155"
      ]
     },
     "execution_count": 20,
     "metadata": {},
     "output_type": "execute_result"
    }
   ],
   "source": [
    "knn = knnClassifier(n_neighbors=k, weights='uniform', metric='manhattan')\n",
    "knn.fit(X_train, y_train, )\n",
    "y_hat_test = knn.predict_proba(X_test)\n",
    "roc_auc_score(y_test, y_hat_test[:, 1])"
   ]
  },
  {
   "cell_type": "markdown",
   "metadata": {},
   "source": [
    "## Фитим веса"
   ]
  },
  {
   "cell_type": "code",
   "execution_count": 21,
   "metadata": {},
   "outputs": [
    {
     "data": {
      "text/plain": [
       "0.9002591096830262"
      ]
     },
     "execution_count": 21,
     "metadata": {},
     "output_type": "execute_result"
    }
   ],
   "source": [
    "metric='euclidean'\n",
    "\n",
    "knn = knnClassifier(n_neighbors=k, weights='distance', metric=metric)\n",
    "knn.fit(X_train, y_train, )\n",
    "y_hat_test = knn.predict_proba(X_test)\n",
    "roc_auc_score(y_test, y_hat_test[:, 1])"
   ]
  },
  {
   "cell_type": "markdown",
   "metadata": {},
   "source": [
    "## Итоговая модель, обучаем на всей выборке и тестируем на валидирующей"
   ]
  },
  {
   "cell_type": "code",
   "execution_count": 40,
   "metadata": {},
   "outputs": [],
   "source": [
    "k=700\n",
    "metric='euclidean'\n",
    "weights='distance'\n",
    "\n",
    "knn = knnClassifier(n_neighbors=k, weights='distance', metric=metric)\n",
    "knn.fit(X, y, )\n",
    "yy_prediction_knn = knn.predict(X_validate)\n",
    "\n"
   ]
  },
  {
   "cell_type": "code",
   "execution_count": 47,
   "metadata": {},
   "outputs": [],
   "source": [
    "result_knn = pd.DataFrame({\"_id\":X_validate.index, \"target\":yy_prediction_knn})\n",
    "result_knn.target = result_knn.target.astype(int)"
   ]
  },
  {
   "cell_type": "markdown",
   "metadata": {},
   "source": [
    "# Дерево принятия решений"
   ]
  },
  {
   "cell_type": "code",
   "execution_count": 48,
   "metadata": {},
   "outputs": [
    {
     "data": {
      "text/plain": [
       "0.722901483259868"
      ]
     },
     "execution_count": 48,
     "metadata": {},
     "output_type": "execute_result"
    }
   ],
   "source": [
    "from sklearn.tree import DecisionTreeClassifier\n",
    "from sklearn.tree import export_graphviz\n",
    "\n",
    "tree = DecisionTreeClassifier(criterion='entropy', random_state=123)\n",
    "tree.fit(X_train,y_train)\n",
    "y_hat_test = tree.predict_proba(X_test)\n",
    "roc_auc_score(y_test, y_hat_test[:, 1])\n"
   ]
  },
  {
   "cell_type": "markdown",
   "metadata": {},
   "source": [
    "## Фитим глубину дерева"
   ]
  },
  {
   "cell_type": "code",
   "execution_count": 42,
   "metadata": {},
   "outputs": [
    {
     "data": {
      "text/plain": [
       "Text(0,0.5,'ROC AUC')"
      ]
     },
     "execution_count": 42,
     "metadata": {},
     "output_type": "execute_result"
    },
    {
     "data": {
      "image/png": "[encoded data removed]",
      "text/plain": [
       "<Figure size 432x288 with 1 Axes>"
      ]
     },
     "metadata": {},
     "output_type": "display_data"
    }
   ],
   "source": [
    "from sklearn.model_selection import (StratifiedKFold, validation_curve)\n",
    "\n",
    "model = DecisionTreeClassifier(random_state=123)\n",
    "\n",
    "cv = StratifiedKFold(n_splits=5, shuffle=True, random_state=132)\n",
    "\n",
    "train_scores, valid_scores = validation_curve(model, X, y, \n",
    "                                              'max_depth', range(1, 10),\n",
    "                                              cv=cv, scoring='roc_auc')\n",
    "\n",
    "train_score_mean = train_scores.mean(axis=1)\n",
    "train_score_std = train_scores.std(axis=1)\n",
    "valid_scores_mean = valid_scores.mean(axis=1)\n",
    "valid_scores_std = valid_scores.std(axis=1)\n",
    "\n",
    "plt.fill_between(range(1,10), train_score_mean-train_score_std, train_score_mean+train_score_std, color='b',\n",
    "                 interpolate=True, alpha=0.5,)\n",
    "plt.fill_between(range(1,10), valid_scores_mean-valid_scores_std, valid_scores_mean+valid_scores_std, color='r', \n",
    "                 interpolate=True, alpha=0.5)\n",
    "\n",
    "plt.plot(range(1,10), train_score_mean, c='b', lw=2)\n",
    "plt.plot(range(1,10), valid_scores_mean, c='r', lw=2)\n",
    "\n",
    "plt.xlabel('max depth')\n",
    "plt.ylabel('ROC AUC')\n"
   ]
  },
  {
   "cell_type": "code",
   "execution_count": 43,
   "metadata": {},
   "outputs": [
    {
     "data": {
      "text/plain": [
       "0.9137503062180728"
      ]
     },
     "execution_count": 43,
     "metadata": {},
     "output_type": "execute_result"
    }
   ],
   "source": [
    "max_depth = 6\n",
    "tree = DecisionTreeClassifier(criterion='entropy', max_depth = max_depth, random_state=123)\n",
    "tree.fit(X_train,y_train)\n",
    "y_hat_test = tree.predict_proba(X_test)\n",
    "roc_auc_score(y_test, y_hat_test[:, 1])\n"
   ]
  },
  {
   "cell_type": "markdown",
   "metadata": {},
   "source": [
    "## Фитим все гиперпараметры"
   ]
  },
  {
   "cell_type": "code",
   "execution_count": 44,
   "metadata": {},
   "outputs": [
    {
     "data": {
      "text/plain": [
       "RandomizedSearchCV(cv=StratifiedKFold(n_splits=5, random_state=123, shuffle=True),\n",
       "          error_score='raise',\n",
       "          estimator=DecisionTreeClassifier(class_weight=None, criterion='gini', max_depth=None,\n",
       "            max_features=None, max_leaf_nodes=None,\n",
       "            min_impurity_decrease=0.0, min_impurity_split=None,\n",
       "            min_samples_leaf=1, min_samples_split=2,\n",
       "            min_weight_fraction_leaf=0.0, presort=False, random_state=123,\n",
       "            splitter='best'),\n",
       "          fit_params=None, iid=True, n_iter=200, n_jobs=-1,\n",
       "          param_distributions={'criterion': ['gini', 'entropy'], 'max_depth': <scipy.stats._distn_infrastructure.rv_frozen object at 0x000001F587BB8BA8>, 'min_samples_leaf': <scipy.stats._distn_infrastructure.rv_frozen object at 0x000001F587BB8860>, 'class_weight': [None, 'balanced']},\n",
       "          pre_dispatch='2*n_jobs', random_state=123, refit=True,\n",
       "          return_train_score='warn', scoring='roc_auc', verbose=0)"
      ]
     },
     "execution_count": 44,
     "metadata": {},
     "output_type": "execute_result"
    }
   ],
   "source": [
    "from scipy.stats import randint as randint\n",
    "from scipy.stats import uniform\n",
    "\n",
    "try:\n",
    "    from sklearn.model_selection import GridSearchCV\n",
    "    from sklearn.model_selection import RandomizedSearchCV\n",
    "    from sklearn.model_selection import StratifiedKFold\n",
    "except ImportError:\n",
    "    from sklearn.cross_validation import GridSearchCV\n",
    "    from sklearn.cross_validation import RandomizedSearchCV\n",
    "    from sklearn.cross_validation import StratifiedKFold\n",
    "\n",
    "\n",
    "RND_SEED = 123\n",
    "# Определим пространство поиска\n",
    "\n",
    "param_grid = {\n",
    "    'criterion': ['gini', 'entropy'],\n",
    "    'max_depth': randint(2, 8),\n",
    "    'min_samples_leaf': randint(5, 10),\n",
    "    'class_weight': [None, 'balanced']}\n",
    "\n",
    "# Некоторые параметры мы задали не простым перечислением значений, а \n",
    "# с помощью распределений.\n",
    "\n",
    "# Будем делать 200 запусков поиска\n",
    "cv = StratifiedKFold(n_splits=5, random_state=123, shuffle=True)\n",
    "\n",
    "model = DecisionTreeClassifier(random_state=123)\n",
    "random_search = RandomizedSearchCV(model, param_distributions=param_grid, n_iter=200, n_jobs=-1,\n",
    "                                   cv=cv, scoring='roc_auc', random_state=123)\n",
    "# А дальше, просто .fit()\n",
    "random_search.fit(X, y)"
   ]
  },
  {
   "cell_type": "code",
   "execution_count": 45,
   "metadata": {},
   "outputs": [
    {
     "data": {
      "text/plain": [
       "{'class_weight': 'balanced',\n",
       " 'criterion': 'entropy',\n",
       " 'max_depth': 6,\n",
       " 'min_samples_leaf': 8}"
      ]
     },
     "execution_count": 45,
     "metadata": {},
     "output_type": "execute_result"
    }
   ],
   "source": [
    "random_search.best_params_"
   ]
  },
  {
   "cell_type": "code",
   "execution_count": 46,
   "metadata": {},
   "outputs": [
    {
     "data": {
      "text/plain": [
       "0.936469847975743"
      ]
     },
     "execution_count": 46,
     "metadata": {},
     "output_type": "execute_result"
    }
   ],
   "source": [
    "random_search.best_score_"
   ]
  },
  {
   "cell_type": "code",
   "execution_count": 50,
   "metadata": {},
   "outputs": [
    {
     "data": {
      "text/plain": [
       "job_admin.               0.000000\n",
       "job_entrepreneur         0.000000\n",
       "job_housemaid            0.000000\n",
       "job_management           0.000000\n",
       "job_retired              0.000000\n",
       "job_self-employed        0.000000\n",
       "job_services             0.000000\n",
       "job_student              0.000000\n",
       "job_technician           0.000000\n",
       "job_unemployed           0.000000\n",
       "job_unknown              0.000000\n",
       "loan_no                  0.000000\n",
       "loan_unknown             0.000000\n",
       "loan_yes                 0.000000\n",
       "marital_divorced         0.000000\n",
       "marital_single           0.000000\n",
       "marital_unknown          0.000000\n",
       "month_apr                0.000000\n",
       "month_aug                0.000000\n",
       "month_dec                0.000000\n",
       "month_jul                0.000000\n",
       "month_jun                0.000000\n",
       "month_mar                0.000000\n",
       "month_may                0.000000\n",
       "month_nov                0.000000\n",
       "month_sep                0.000000\n",
       "housing_yes              0.000000\n",
       "housing_unknown          0.000000\n",
       "poutcome_success         0.000000\n",
       "education_unknown        0.000000\n",
       "                           ...   \n",
       "education_illiterate     0.000000\n",
       "education_high.school    0.000000\n",
       "education_basic.9y       0.000000\n",
       "education_basic.6y       0.000000\n",
       "education_basic.4y       0.000000\n",
       "default_yes              0.000000\n",
       "default_unknown          0.000000\n",
       "housing_no               0.000000\n",
       "day_of_week_wed          0.000000\n",
       "day_of_week_tue          0.000000\n",
       "day_of_week_thu          0.000000\n",
       "poutcome_nonexistent     0.000348\n",
       "marital_married          0.000350\n",
       "age                      0.000728\n",
       "campaign                 0.001228\n",
       "day_of_week_mon          0.001443\n",
       "previous                 0.001550\n",
       "job_blue-collar          0.001710\n",
       "day_of_week_fri          0.001729\n",
       "poutcome_failure         0.001950\n",
       "contact                  0.002091\n",
       "default_no               0.004068\n",
       "cons_price_idx           0.004351\n",
       "pdays                    0.008219\n",
       "month_oct                0.020975\n",
       "euribor3m                0.031583\n",
       "emp_var_rate             0.050271\n",
       "cons_conf_idx            0.083656\n",
       "nr_employed              0.272411\n",
       "duration                 0.511338\n",
       "Length: 62, dtype: float64"
      ]
     },
     "execution_count": 50,
     "metadata": {},
     "output_type": "execute_result"
    }
   ],
   "source": [
    "model = random_search.best_estimator_\n",
    "model.feature_importances_\n",
    "\n",
    "feature_names = X.columns\n",
    "importances = pd.Series(index=feature_names, data=model.feature_importances_).sort_values()\n",
    "importances"
   ]
  },
  {
   "cell_type": "markdown",
   "metadata": {},
   "source": [
    "## Строим модель по лучшим параметрам, делаем предсказание на валидирующей выборке"
   ]
  },
  {
   "cell_type": "code",
   "execution_count": 52,
   "metadata": {},
   "outputs": [],
   "source": [
    "\n",
    "model = DecisionTreeClassifier(class_weight = 'balanced', criterion = 'entropy', max_depth = 6, min_samples_leaf = 8)\n",
    "model.fit(X, y)\n",
    "\n",
    "y_prediction_dt =  tree.predict(X_validate)"
   ]
  },
  {
   "cell_type": "code",
   "execution_count": 56,
   "metadata": {},
   "outputs": [],
   "source": [
    "result_dt = pd.DataFrame({\"_id\":X_validate.index, \"target\":y_prediction_dt})\n",
    "result_dt.target = result_dt.target.astype(int)"
   ]
  },
  {
   "cell_type": "markdown",
   "metadata": {},
   "source": [
    "# Логистическая регрессия"
   ]
  },
  {
   "cell_type": "code",
   "execution_count": 57,
   "metadata": {},
   "outputs": [
    {
     "data": {
      "text/plain": [
       "0.9344430658237523"
      ]
     },
     "execution_count": 57,
     "metadata": {},
     "output_type": "execute_result"
    }
   ],
   "source": [
    "from sklearn.linear_model import LogisticRegression\n",
    "\n",
    "model = LogisticRegression(penalty='l1', C=1, fit_intercept=True)\n",
    "model.fit(X_train, y_train)\n",
    "\n",
    "y_hat_test=model.predict_proba(X_test)\n",
    "\n",
    "roc_auc_score(y_test, y_hat_test[:, 1])"
   ]
  },
  {
   "cell_type": "code",
   "execution_count": null,
   "metadata": {},
   "outputs": [],
   "source": []
  },
  {
   "cell_type": "markdown",
   "metadata": {},
   "source": [
    "## Выбираем наиболее значимые признаки"
   ]
  },
  {
   "cell_type": "code",
   "execution_count": 58,
   "metadata": {},
   "outputs": [
    {
     "name": "stderr",
     "output_type": "stream",
     "text": [
      "C:\\Users\\Elena\\Anaconda3\\lib\\site-packages\\statsmodels\\compat\\pandas.py:56: FutureWarning: The pandas.core.datetools module is deprecated and will be removed in a future version. Please use the pandas.tseries module instead.\n",
      "  from pandas.core import datetools\n",
      "C:\\Users\\Elena\\Anaconda3\\lib\\site-packages\\ipykernel_launcher.py:13: RuntimeWarning: invalid value encountered in sqrt\n",
      "  del sys.path[0]\n",
      "C:\\Users\\Elena\\Anaconda3\\lib\\site-packages\\scipy\\stats\\_distn_infrastructure.py:879: RuntimeWarning: invalid value encountered in greater\n",
      "  return (self.a < x) & (x < self.b)\n",
      "C:\\Users\\Elena\\Anaconda3\\lib\\site-packages\\scipy\\stats\\_distn_infrastructure.py:879: RuntimeWarning: invalid value encountered in less\n",
      "  return (self.a < x) & (x < self.b)\n",
      "C:\\Users\\Elena\\Anaconda3\\lib\\site-packages\\scipy\\stats\\_distn_infrastructure.py:1738: RuntimeWarning: invalid value encountered in greater_equal\n",
      "  cond2 = (x >= self.b) & cond0\n"
     ]
    },
    {
     "name": "stdout",
     "output_type": "stream",
     "text": [
      "                      Coeff_names  Coefficients  Standard Errors  t values  \\\n",
      "0                       Intercept        0.0000       108396.712     0.000   \n",
      "1                             age        0.0034            0.000    14.381   \n",
      "2                        campaign       -0.0376            0.001   -53.598   \n",
      "3                   cons_conf_idx        0.0008            0.001     0.770   \n",
      "4                  cons_price_idx        0.3990            0.031    13.024   \n",
      "5                         contact       -0.4889            0.007   -65.548   \n",
      "6                        duration        0.0046            0.000   627.897   \n",
      "7                    emp_var_rate       -0.6442            0.018   -35.183   \n",
      "8                       euribor3m        0.2531            0.016    16.283   \n",
      "9                     nr_employed       -0.0080            0.000   -21.592   \n",
      "10                          pdays       -0.0012            0.000   -33.127   \n",
      "11                       previous        0.0107            0.009     1.134   \n",
      "12                day_of_week_fri       -0.0861              NaN       NaN   \n",
      "13                day_of_week_mon       -0.1371              NaN       NaN   \n",
      "14                day_of_week_thu        0.0188              NaN       NaN   \n",
      "15                day_of_week_tue        0.0000              NaN       NaN   \n",
      "16                day_of_week_wed        0.0000              NaN       NaN   \n",
      "17                     default_no        0.4027              NaN       NaN   \n",
      "18                default_unknown       -0.0011              NaN       NaN   \n",
      "19                    default_yes        0.0000              NaN       NaN   \n",
      "20             education_basic.4y       -0.0410              NaN       NaN   \n",
      "21             education_basic.6y        0.0000              NaN       NaN   \n",
      "22             education_basic.9y       -0.0292              NaN       NaN   \n",
      "23          education_high.school       -0.0753              NaN       NaN   \n",
      "24           education_illiterate        0.0000              NaN       NaN   \n",
      "25  education_professional.course        0.0302              NaN       NaN   \n",
      "26    education_university.degree        0.1402              NaN       NaN   \n",
      "27              education_unknown        0.0332              NaN       NaN   \n",
      "28                     housing_no        0.0716              NaN       NaN   \n",
      "29                housing_unknown        0.0000              NaN       NaN   \n",
      "..                            ...           ...              ...       ...   \n",
      "33               job_entrepreneur       -0.0532       217665.442    -0.000   \n",
      "34                  job_housemaid       -0.1344       213916.187    -0.000   \n",
      "35                 job_management       -0.0341       143465.509    -0.000   \n",
      "36                    job_retired        0.0280       158266.655     0.000   \n",
      "37              job_self-employed       -0.2084       109721.166    -0.000   \n",
      "38                   job_services        0.0000       196242.210     0.000   \n",
      "39                    job_student        0.1374       237161.305     0.000   \n",
      "40                 job_technician        0.0017       191230.943     0.000   \n",
      "41                 job_unemployed        0.1218              NaN       NaN   \n",
      "42                    job_unknown        0.0000              NaN       NaN   \n",
      "43                        loan_no        0.0657       201736.996     0.000   \n",
      "44                   loan_unknown        0.0000              NaN       NaN   \n",
      "45                       loan_yes       -0.0172       185652.422    -0.000   \n",
      "46               marital_divorced        0.0496       146258.133     0.000   \n",
      "47                marital_married       -0.0222       173054.957    -0.000   \n",
      "48                 marital_single        0.0289       146258.133     0.000   \n",
      "49                marital_unknown       -0.0562       166759.929    -0.000   \n",
      "50                      month_apr       -0.0940              NaN       NaN   \n",
      "51                      month_aug        0.3204              NaN       NaN   \n",
      "52                      month_dec       -0.0464              NaN       NaN   \n",
      "53                      month_jul        0.1229              NaN       NaN   \n",
      "54                      month_jun        0.2012              NaN       NaN   \n",
      "55                      month_mar        1.3349              NaN       NaN   \n",
      "56                      month_may       -0.8376              NaN       NaN   \n",
      "57                      month_nov       -0.4501              NaN       NaN   \n",
      "58                      month_oct        0.0116              NaN       NaN   \n",
      "59                      month_sep       -0.1054              NaN       NaN   \n",
      "60               poutcome_failure       -0.5406        98351.540    -0.000   \n",
      "61           poutcome_nonexistent        0.0000        98351.540     0.000   \n",
      "62               poutcome_success        0.1758        98351.540     0.000   \n",
      "\n",
      "    Probabilites  \n",
      "0          1.000  \n",
      "1          0.000  \n",
      "2          0.000  \n",
      "3          0.442  \n",
      "4          0.000  \n",
      "5          0.000  \n",
      "6          0.000  \n",
      "7          0.000  \n",
      "8          0.000  \n",
      "9          0.000  \n",
      "10         0.000  \n",
      "11         0.257  \n",
      "12           NaN  \n",
      "13           NaN  \n",
      "14           NaN  \n",
      "15           NaN  \n",
      "16           NaN  \n",
      "17           NaN  \n",
      "18           NaN  \n",
      "19           NaN  \n",
      "20           NaN  \n",
      "21           NaN  \n",
      "22           NaN  \n",
      "23           NaN  \n",
      "24           NaN  \n",
      "25           NaN  \n",
      "26           NaN  \n",
      "27           NaN  \n",
      "28           NaN  \n",
      "29           NaN  \n",
      "..           ...  \n",
      "33         1.000  \n",
      "34         1.000  \n",
      "35         1.000  \n",
      "36         1.000  \n",
      "37         1.000  \n",
      "38         1.000  \n",
      "39         1.000  \n",
      "40         1.000  \n",
      "41           NaN  \n",
      "42           NaN  \n",
      "43         1.000  \n",
      "44           NaN  \n",
      "45         1.000  \n",
      "46         1.000  \n",
      "47         1.000  \n",
      "48         1.000  \n",
      "49         1.000  \n",
      "50           NaN  \n",
      "51           NaN  \n",
      "52           NaN  \n",
      "53           NaN  \n",
      "54           NaN  \n",
      "55           NaN  \n",
      "56           NaN  \n",
      "57           NaN  \n",
      "58           NaN  \n",
      "59           NaN  \n",
      "60         1.000  \n",
      "61         1.000  \n",
      "62         1.000  \n",
      "\n",
      "[63 rows x 5 columns]\n"
     ]
    }
   ],
   "source": [
    "import numpy as np\n",
    "import statsmodels.api as sm\n",
    "from scipy import stats\n",
    "\n",
    "params = np.append(model.intercept_,model.coef_)\n",
    "predictions = model.predict(X)\n",
    "\n",
    "\n",
    "newX = np.append(np.ones((len(X),1)), X, axis=1)\n",
    "MSE = (sum((y-predictions)**2))/(len(newX)-len(newX[0]))\n",
    "\n",
    "var_b = MSE*(np.linalg.inv(np.dot(newX.T,newX)).diagonal())\n",
    "sd_b = np.sqrt(var_b)\n",
    "ts_b = params/ sd_b\n",
    "\n",
    "p_values =[2*(1-stats.t.cdf(np.abs(i),(len(newX)-1))) for i in ts_b]\n",
    "\n",
    "sd_b = np.round(sd_b,3)\n",
    "ts_b = np.round(ts_b,3)\n",
    "p_values = np.round(p_values,3)\n",
    "params = np.round(params,4)\n",
    "\n",
    "myDF3 = pd.DataFrame()\n",
    "myDF3[\"Coeff_names\"],myDF3[\"Coefficients\"],myDF3[\"Standard Errors\"],myDF3[\"t values\"],myDF3[\"Probabilites\"] = [[\"Intercept\"]+list(X.columns),params,sd_b,ts_b,p_values]\n",
    "print(myDF3)"
   ]
  },
  {
   "cell_type": "code",
   "execution_count": 59,
   "metadata": {},
   "outputs": [],
   "source": [
    "\n",
    "inportant_features = myDF3[myDF3.Probabilites<=0.01].Coeff_names\n",
    "\n",
    "X_train_if = X_train.loc[:,inportant_features]\n",
    "X_test_if = X_test.loc[:,inportant_features]\n",
    "X_validate_if = X_validate.loc[:,inportant_features]\n",
    "\n"
   ]
  },
  {
   "cell_type": "code",
   "execution_count": 63,
   "metadata": {},
   "outputs": [
    {
     "data": {
      "text/plain": [
       "0.9252123849121008"
      ]
     },
     "execution_count": 63,
     "metadata": {},
     "output_type": "execute_result"
    }
   ],
   "source": [
    "model = LogisticRegression(penalty='l1', C=1, fit_intercept=True)\n",
    "model.fit(X_train_if, y_train)\n",
    "\n",
    "y_hat_test=model.predict_proba(X_test_if)\n",
    "\n",
    "roc_auc_score(y_test, y_hat_test[:, 1])"
   ]
  },
  {
   "cell_type": "markdown",
   "metadata": {},
   "source": [
    "## Мы выиграли в скорости, но потеряли в качестве"
   ]
  },
  {
   "cell_type": "markdown",
   "metadata": {},
   "source": [
    "## Фитим коэффициент регуляризации L1"
   ]
  },
  {
   "cell_type": "code",
   "execution_count": 65,
   "metadata": {},
   "outputs": [
    {
     "name": "stdout",
     "output_type": "stream",
     "text": [
      "0.001\n",
      "0.007742636826811269\n",
      "0.05994842503189409\n",
      "0.46415888336127775\n",
      "3.593813663804626\n",
      "27.825594022071257\n",
      "215.44346900318823\n",
      "1668.1005372000557\n",
      "12915.496650148827\n",
      "100000.0\n"
     ]
    },
    {
     "data": {
      "text/plain": [
       "[<matplotlib.lines.Line2D at 0xe0db510>]"
      ]
     },
     "execution_count": 65,
     "metadata": {},
     "output_type": "execute_result"
    },
    {
     "data": {
      "image/png": "[encoded data removed]",
      "text/plain": [
       "<matplotlib.figure.Figure at 0xe01c2d0>"
      ]
     },
     "metadata": {},
     "output_type": "display_data"
    }
   ],
   "source": [
    "coefs = np.empty((X_train.shape[1],))\n",
    "scores = []\n",
    "\n",
    "c_range = np.logspace(-3, 5, 10)\n",
    "\n",
    "for C in c_range:\n",
    "    print(C)\n",
    "    model = Pipeline([\n",
    "        ('scaler', StandardScaler()),\n",
    "        ('clf', LogisticRegression(penalty='l1', fit_intercept=True, C=C))\n",
    "    ])\n",
    "\n",
    "    model.fit(X_train, y_train)\n",
    "    \n",
    "    \n",
    "    coefs = np.c_[coefs, model.named_steps['clf'].coef_[0]]\n",
    "    s = roc_auc_score(y_test, model.predict_proba(X_test)[:, 1])\n",
    "    scores.append(s)\n",
    "    \n",
    "plt.plot(scores)"
   ]
  },
  {
   "cell_type": "code",
   "execution_count": 75,
   "metadata": {},
   "outputs": [
    {
     "name": "stdout",
     "output_type": "stream",
     "text": [
      "0.3\n",
      "0.35\n",
      "0.39999999999999997\n",
      "0.44999999999999996\n",
      "0.49999999999999994\n",
      "0.5499999999999999\n",
      "0.5999999999999999\n",
      "0.6499999999999999\n",
      "0.7\n",
      "0.7499999999999999\n",
      "0.7999999999999998\n",
      "0.8499999999999999\n",
      "0.8999999999999999\n",
      "0.95\n"
     ]
    },
    {
     "data": {
      "text/plain": [
       "[<matplotlib.lines.Line2D at 0xe1998d0>]"
      ]
     },
     "execution_count": 75,
     "metadata": {},
     "output_type": "execute_result"
    },
    {
     "data": {
      "image/png": "[encoded data removed]",
      "text/plain": [
       "<matplotlib.figure.Figure at 0xe176910>"
      ]
     },
     "metadata": {},
     "output_type": "display_data"
    }
   ],
   "source": [
    "coefs = np.empty((X_train.shape[1],))\n",
    "scores = []\n",
    "c_range = np.arange(0.3,1,0.05)\n",
    "\n",
    "for C in c_range:\n",
    "    print(C)\n",
    "    model = Pipeline([\n",
    "        ('scaler', StandardScaler()),\n",
    "        ('clf', LogisticRegression(penalty='l1', fit_intercept=True, C=C))\n",
    "    ])\n",
    "\n",
    "    model.fit(X_train, y_train)\n",
    "    \n",
    "    \n",
    "    coefs = np.c_[coefs, model.named_steps['clf'].coef_[0]]\n",
    "    s = roc_auc_score(y_test, model.predict_proba(X_test)[:, 1])\n",
    "    scores.append(s)\n",
    "    \n",
    "plt.plot(scores)"
   ]
  },
  {
   "cell_type": "code",
   "execution_count": 76,
   "metadata": {},
   "outputs": [
    {
     "data": {
      "text/plain": [
       "0.9349501647575087"
      ]
     },
     "execution_count": 76,
     "metadata": {},
     "output_type": "execute_result"
    }
   ],
   "source": [
    "C1 = 0.4\n",
    "model = Pipeline([\n",
    "        ('scaler', StandardScaler()),\n",
    "        ('clf', LogisticRegression(penalty='l1', fit_intercept=True, C=C1))\n",
    "    ])\n",
    "model.fit(X_train, y_train)\n",
    "    \n",
    "    \n",
    "coefs = np.c_[coefs, model.named_steps['clf'].coef_[0]]\n",
    "roc_auc_score(y_test, model.predict_proba(X_test)[:, 1])\n"
   ]
  },
  {
   "cell_type": "markdown",
   "metadata": {},
   "source": [
    "## Фитим коэффициент регуляризации L2"
   ]
  },
  {
   "cell_type": "code",
   "execution_count": 68,
   "metadata": {},
   "outputs": [
    {
     "name": "stdout",
     "output_type": "stream",
     "text": [
      "0.001\n",
      "0.007742636826811269\n",
      "0.05994842503189409\n",
      "0.46415888336127775\n",
      "3.593813663804626\n",
      "27.825594022071257\n",
      "215.44346900318823\n",
      "1668.1005372000557\n",
      "12915.496650148827\n",
      "100000.0\n"
     ]
    },
    {
     "data": {
      "text/plain": [
       "[<matplotlib.lines.Line2D at 0xe12bfb0>]"
      ]
     },
     "execution_count": 68,
     "metadata": {},
     "output_type": "execute_result"
    },
    {
     "data": {
      "image/png": "[encoded data removed]",
      "text/plain": [
       "<matplotlib.figure.Figure at 0xee6a590>"
      ]
     },
     "metadata": {},
     "output_type": "display_data"
    }
   ],
   "source": [
    "coefs = np.empty((X_train.shape[1],))\n",
    "scores = []\n",
    "\n",
    "c_range = np.logspace(-3, 5, 10)\n",
    "\n",
    "for C in c_range:\n",
    "    print(C)\n",
    "    model = Pipeline([\n",
    "        ('scaler', StandardScaler()),\n",
    "        ('clf', LogisticRegression(penalty='l2', fit_intercept=True, C=C))\n",
    "    ])\n",
    "\n",
    "    model.fit(X_train, y_train)\n",
    "    \n",
    "    \n",
    "    coefs = np.c_[coefs, model.named_steps['clf'].coef_[0]]\n",
    "    s = roc_auc_score(y_test, model.predict_proba(X_test)[:, 1])\n",
    "    scores.append(s)\n",
    "    \n",
    "plt.plot(scores)"
   ]
  },
  {
   "cell_type": "code",
   "execution_count": 73,
   "metadata": {},
   "outputs": [
    {
     "name": "stdout",
     "output_type": "stream",
     "text": [
      "0.3\n",
      "0.35\n",
      "0.39999999999999997\n",
      "0.44999999999999996\n",
      "0.49999999999999994\n",
      "0.5499999999999999\n",
      "0.5999999999999999\n",
      "0.6499999999999999\n",
      "0.7\n",
      "0.7499999999999999\n",
      "0.7999999999999998\n",
      "0.8499999999999999\n",
      "0.8999999999999999\n",
      "0.95\n"
     ]
    },
    {
     "data": {
      "text/plain": [
       "[<matplotlib.lines.Line2D at 0xe1769d0>]"
      ]
     },
     "execution_count": 73,
     "metadata": {},
     "output_type": "execute_result"
    },
    {
     "data": {
      "image/png": "[encoded data removed]",
      "text/plain": [
       "<matplotlib.figure.Figure at 0xe151ef0>"
      ]
     },
     "metadata": {},
     "output_type": "display_data"
    }
   ],
   "source": [
    "coefs = np.empty((X_train.shape[1],))\n",
    "scores = []\n",
    "c_range = np.arange(0.3,1,0.05)\n",
    "\n",
    "for C in c_range:\n",
    "    print(C)\n",
    "    model = Pipeline([\n",
    "        ('scaler', StandardScaler()),\n",
    "        ('clf', LogisticRegression(penalty='l2', fit_intercept=True, C=C))\n",
    "    ])\n",
    "\n",
    "    model.fit(X_train, y_train)\n",
    "    \n",
    "    \n",
    "    coefs = np.c_[coefs, model.named_steps['clf'].coef_[0]]\n",
    "    s = roc_auc_score(y_test, model.predict_proba(X_test)[:, 1])\n",
    "    scores.append(s)\n",
    "    \n",
    "plt.plot(scores)"
   ]
  },
  {
   "cell_type": "code",
   "execution_count": 74,
   "metadata": {},
   "outputs": [
    {
     "data": {
      "text/plain": [
       "0.9349025057619544"
      ]
     },
     "execution_count": 74,
     "metadata": {},
     "output_type": "execute_result"
    }
   ],
   "source": [
    "coefs = np.empty((X_train.shape[1],))\n",
    "C2 = 0.45\n",
    "model = Pipeline([\n",
    "        ('scaler', StandardScaler()),\n",
    "        ('clf', LogisticRegression(penalty='l2', fit_intercept=True, C=C2))\n",
    "    ])\n",
    "model.fit(X_train, y_train)\n",
    "    \n",
    "    \n",
    "coefs = np.c_[coefs, model.named_steps['clf'].coef_[0]]\n",
    "roc_auc_score(y_test, model.predict_proba(X_test)[:, 1])"
   ]
  },
  {
   "cell_type": "markdown",
   "metadata": {},
   "source": [
    "## Выбираем l1"
   ]
  },
  {
   "cell_type": "markdown",
   "metadata": {},
   "source": [
    "## Строим лучшую модель, делаем предсказание на валидирующей выборке\n"
   ]
  },
  {
   "cell_type": "code",
   "execution_count": 79,
   "metadata": {},
   "outputs": [],
   "source": [
    "C = 0.4\n",
    "model = Pipeline([\n",
    "        ('scaler', StandardScaler()),\n",
    "        ('clf', LogisticRegression(penalty='l1', fit_intercept=True, C=C))\n",
    "    ])\n",
    "model.fit(X, y)\n",
    "    \n",
    "    \n",
    "y_prediction_lr = model.predict(X_validate)"
   ]
  },
  {
   "cell_type": "code",
   "execution_count": 81,
   "metadata": {},
   "outputs": [],
   "source": [
    "result_lr = pd.DataFrame({\"_id\":X_validate.index, \"target\":y_prediction_lr})\n",
    "result_lr.target = result_lr.target.astype(int)"
   ]
  },
  {
   "cell_type": "markdown",
   "metadata": {},
   "source": [
    "# Лучшее решение - дерево принятия решения"
   ]
  },
  {
   "cell_type": "code",
   "execution_count": 84,
   "metadata": {},
   "outputs": [],
   "source": [
    "result_dt.to_csv(\"result.csv\", index = False)"
   ]
  },
  {
   "cell_type": "code",
   "execution_count": null,
   "metadata": {},
   "outputs": [],
   "source": []
  }
 ],
 "metadata": {
  "kernelspec": {
   "display_name": "Python 3",
   "language": "python",
   "name": "python3"
  },
  "language_info": {
   "codemirror_mode": {
    "name": "ipython",
    "version": 3
   },
   "file_extension": ".py",
   "mimetype": "text/x-python",
   "name": "python",
   "nbconvert_exporter": "python",
   "pygments_lexer": "ipython3",
   "version": "3.6.4"
  }
 },
 "nbformat": 4,
 "nbformat_minor": 2
}
